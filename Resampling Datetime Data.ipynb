{
 "cells": [
  {
   "cell_type": "markdown",
   "id": "ea0e4eb1",
   "metadata": {},
   "source": [
    "# Resampling Datetime Data"
   ]
  },
  {
   "cell_type": "markdown",
   "id": "72cf254d",
   "metadata": {},
   "source": [
    "Work with a modified version of weather data from London from Kaggle, here: \n",
    "\n",
    "https://docs.google.com/spreadsheets/d/e/2PACX-1vT_jChgNsQbHbg4TGepzIqk8XC9DTIKmyyxb1upo5cfZCgbfIUQc2ZC0YMzuU5uApP140Ob49KBjdqh/pub?gid=1198589591&single=true&output=csv"
   ]
  },
  {
   "cell_type": "markdown",
   "id": "e218662f",
   "metadata": {},
   "source": [
    "**Part 1 Goal: Load data and make a datetime index**\n",
    "1. Convert the date column to datetime dtype.\n",
    "2. Set the date column as the index.\n",
    "3. Filter out only the required data. Keep only data from the year 2000 or later.\n",
    "4. Keep only the following features: precipitation, mean_temp, min_temp, max_temp, snow_depth\n",
    "5. Impute any missing values.\n",
    "\n",
    "**Part 2 Goal: Answer the Questions with Visualizations**\n",
    "\n",
    "For each of the following questions, make a new copy of the dataframe resampled to the correct frequency for the question.\n",
    "- Q1: Q1: What month had the most precipitation between 2000 through 2010?\n",
    "    - Resample the data as Monthly frequency.\n",
    "    - Find the date and corresponding value for the max precipitation.\n",
    "    - Plot the feature and time period that corresponds to the question.\n",
    "    - Determine the date and value for the most precipitation (the max precipitation).\n",
    "    - Add a vertical line at this date with a label that says the date (using date format: \"April 2000\") and the max precipitation value. Make sure to add a legend so that the label is visible.\n",
    "    \n",
    "NOTE: Pandas' .plot method currently has a bug with 4-digit year axis labels. The tick labels misbehave when being formatted with matplotlib and will produce a mostly-blank axis with 1 year labeled. To get around this issue, first, create your fig and ax using plt.subplots(), then use pandas .plot method to plot this figure by adding the argument \"ax=ax\" to .plot().\n",
    "\n",
    "```\n",
    "fig, ax = plt.subplots(figsize=(12,3))\n",
    "df.plot(ax=ax)\n",
    "```\n",
    "\n",
    "- Q2: Which year between 2000-2020 had the coolest average temperature?\n",
    "    - Resample the data as Yearly frequency.\n",
    "    - Plot the feature and time period that corresponds to the question.\n",
    "    - Determine the date and value for the lowest mean temp.\n",
    "    - Add a vertical line at this date with a label that says the date (using date format: \"2000\") and the lowest mean temperature value.\n",
    "\n"
   ]
  },
  {
   "cell_type": "markdown",
   "id": "26aa450b",
   "metadata": {
    "heading_collapsed": true
   },
   "source": [
    "# 0 Preliminary Steps"
   ]
  },
  {
   "cell_type": "code",
   "execution_count": 2,
   "id": "c95c9907",
   "metadata": {
    "hidden": true
   },
   "outputs": [],
   "source": [
    "# imports\n",
    "import pandas as pd\n",
    "import datetime as dt\n",
    "from matplotlib import dates as mdates\n",
    "import matplotlib.pyplot as plt"
   ]
  },
  {
   "cell_type": "code",
   "execution_count": 3,
   "id": "6f90e920",
   "metadata": {
    "hidden": true
   },
   "outputs": [
    {
     "name": "stdout",
     "output_type": "stream",
     "text": [
      "<class 'pandas.core.frame.DataFrame'>\n",
      "RangeIndex: 15341 entries, 0 to 15340\n",
      "Data columns (total 10 columns):\n",
      " #   Column            Non-Null Count  Dtype  \n",
      "---  ------            --------------  -----  \n",
      " 0   date              15341 non-null  int64  \n",
      " 1   cloud_cover       14938 non-null  float64\n",
      " 2   sunshine          14957 non-null  float64\n",
      " 3   global_radiation  14939 non-null  float64\n",
      " 4   max_temp          14951 non-null  float64\n",
      " 5   mean_temp         14922 non-null  float64\n",
      " 6   min_temp          14955 non-null  float64\n",
      " 7   precipitation     14951 non-null  float64\n",
      " 8   pressure          14953 non-null  float64\n",
      " 9   snow_depth        13589 non-null  float64\n",
      "dtypes: float64(9), int64(1)\n",
      "memory usage: 1.2 MB\n"
     ]
    },
    {
     "data": {
      "text/html": [
       "<div>\n",
       "<style scoped>\n",
       "    .dataframe tbody tr th:only-of-type {\n",
       "        vertical-align: middle;\n",
       "    }\n",
       "\n",
       "    .dataframe tbody tr th {\n",
       "        vertical-align: top;\n",
       "    }\n",
       "\n",
       "    .dataframe thead th {\n",
       "        text-align: right;\n",
       "    }\n",
       "</style>\n",
       "<table border=\"1\" class=\"dataframe\">\n",
       "  <thead>\n",
       "    <tr style=\"text-align: right;\">\n",
       "      <th></th>\n",
       "      <th>date</th>\n",
       "      <th>cloud_cover</th>\n",
       "      <th>sunshine</th>\n",
       "      <th>global_radiation</th>\n",
       "      <th>max_temp</th>\n",
       "      <th>mean_temp</th>\n",
       "      <th>min_temp</th>\n",
       "      <th>precipitation</th>\n",
       "      <th>pressure</th>\n",
       "      <th>snow_depth</th>\n",
       "    </tr>\n",
       "  </thead>\n",
       "  <tbody>\n",
       "    <tr>\n",
       "      <th>0</th>\n",
       "      <td>19790101</td>\n",
       "      <td>2.0</td>\n",
       "      <td>7.0</td>\n",
       "      <td>52.0</td>\n",
       "      <td>2.3</td>\n",
       "      <td>-4.1</td>\n",
       "      <td>-7.5</td>\n",
       "      <td>0.4</td>\n",
       "      <td>101900.0</td>\n",
       "      <td>9.0</td>\n",
       "    </tr>\n",
       "    <tr>\n",
       "      <th>1</th>\n",
       "      <td>19790102</td>\n",
       "      <td>6.0</td>\n",
       "      <td>1.7</td>\n",
       "      <td>27.0</td>\n",
       "      <td>1.6</td>\n",
       "      <td>-2.6</td>\n",
       "      <td>-7.5</td>\n",
       "      <td>0.0</td>\n",
       "      <td>102530.0</td>\n",
       "      <td>8.0</td>\n",
       "    </tr>\n",
       "    <tr>\n",
       "      <th>2</th>\n",
       "      <td>19790103</td>\n",
       "      <td>5.0</td>\n",
       "      <td>0.0</td>\n",
       "      <td>13.0</td>\n",
       "      <td>1.3</td>\n",
       "      <td>-2.8</td>\n",
       "      <td>-7.2</td>\n",
       "      <td>0.0</td>\n",
       "      <td>102050.0</td>\n",
       "      <td>4.0</td>\n",
       "    </tr>\n",
       "    <tr>\n",
       "      <th>3</th>\n",
       "      <td>19790104</td>\n",
       "      <td>8.0</td>\n",
       "      <td>0.0</td>\n",
       "      <td>13.0</td>\n",
       "      <td>-0.3</td>\n",
       "      <td>-2.6</td>\n",
       "      <td>-6.5</td>\n",
       "      <td>0.0</td>\n",
       "      <td>100840.0</td>\n",
       "      <td>2.0</td>\n",
       "    </tr>\n",
       "    <tr>\n",
       "      <th>4</th>\n",
       "      <td>19790105</td>\n",
       "      <td>6.0</td>\n",
       "      <td>2.0</td>\n",
       "      <td>29.0</td>\n",
       "      <td>5.6</td>\n",
       "      <td>-0.8</td>\n",
       "      <td>-1.4</td>\n",
       "      <td>0.0</td>\n",
       "      <td>102250.0</td>\n",
       "      <td>1.0</td>\n",
       "    </tr>\n",
       "  </tbody>\n",
       "</table>\n",
       "</div>"
      ],
      "text/plain": [
       "       date  cloud_cover  sunshine  global_radiation  max_temp  mean_temp  \\\n",
       "0  19790101          2.0       7.0              52.0       2.3       -4.1   \n",
       "1  19790102          6.0       1.7              27.0       1.6       -2.6   \n",
       "2  19790103          5.0       0.0              13.0       1.3       -2.8   \n",
       "3  19790104          8.0       0.0              13.0      -0.3       -2.6   \n",
       "4  19790105          6.0       2.0              29.0       5.6       -0.8   \n",
       "\n",
       "   min_temp  precipitation  pressure  snow_depth  \n",
       "0      -7.5            0.4  101900.0         9.0  \n",
       "1      -7.5            0.0  102530.0         8.0  \n",
       "2      -7.2            0.0  102050.0         4.0  \n",
       "3      -6.5            0.0  100840.0         2.0  \n",
       "4      -1.4            0.0  102250.0         1.0  "
      ]
     },
     "execution_count": 3,
     "metadata": {},
     "output_type": "execute_result"
    }
   ],
   "source": [
    "# load data\n",
    "df = pd.read_csv('https://docs.google.com/spreadsheets/d/e/2PACX-1vT_jChgNsQbHbg4TGepzIqk8XC9DTIKmyyxb1upo5cfZCgbfIUQc2ZC0YMzuU5uApP140Ob49KBjdqh/pub?gid=1198589591&single=true&output=csv')\n",
    "\n",
    "# check\n",
    "df.info()\n",
    "df.head()"
   ]
  },
  {
   "cell_type": "code",
   "execution_count": 4,
   "id": "cd77d80a",
   "metadata": {
    "hidden": true
   },
   "outputs": [],
   "source": [
    "# save copy of df if needed\n",
    "df_copy = df.copy()"
   ]
  },
  {
   "cell_type": "markdown",
   "id": "dde016a2",
   "metadata": {
    "heading_collapsed": true
   },
   "source": [
    "# 1 Part 1: Load data and make a datetime index"
   ]
  },
  {
   "cell_type": "markdown",
   "id": "54b2fbf1",
   "metadata": {
    "hidden": true
   },
   "source": [
    "## 1.1 Convert the date column to datetime dtype."
   ]
  },
  {
   "cell_type": "code",
   "execution_count": 5,
   "id": "89e4a43f",
   "metadata": {
    "hidden": true
   },
   "outputs": [
    {
     "name": "stdout",
     "output_type": "stream",
     "text": [
      "datetime64[ns]\n"
     ]
    },
    {
     "data": {
      "text/plain": [
       "0   1970-01-01 00:00:00.019790101\n",
       "1   1970-01-01 00:00:00.019790102\n",
       "2   1970-01-01 00:00:00.019790103\n",
       "3   1970-01-01 00:00:00.019790104\n",
       "4   1970-01-01 00:00:00.019790105\n",
       "Name: datetime, dtype: datetime64[ns]"
      ]
     },
     "execution_count": 5,
     "metadata": {},
     "output_type": "execute_result"
    }
   ],
   "source": [
    "# convert column to new column of datetime objects\n",
    "df['datetime'] = pd.to_datetime(df['date'])\n",
    "\n",
    "# check\n",
    "print(df['datetime'].dtype)\n",
    "df['datetime'].head()"
   ]
  },
  {
   "cell_type": "code",
   "execution_count": 6,
   "id": "7e4cfa85",
   "metadata": {
    "hidden": true
   },
   "outputs": [
    {
     "name": "stdout",
     "output_type": "stream",
     "text": [
      "datetime64[ns]\n"
     ]
    },
    {
     "data": {
      "text/plain": [
       "0   1979-01-01\n",
       "1   1979-01-02\n",
       "2   1979-01-03\n",
       "3   1979-01-04\n",
       "4   1979-01-05\n",
       "Name: datetime, dtype: datetime64[ns]"
      ]
     },
     "execution_count": 6,
     "metadata": {},
     "output_type": "execute_result"
    }
   ],
   "source": [
    "# correct the formatting\n",
    "df['datetime'] = pd.to_datetime(df['date'], format='%Y%m%d')\n",
    "\n",
    "# check\n",
    "print(df['datetime'].dtype)\n",
    "df['datetime'].head()"
   ]
  },
  {
   "cell_type": "code",
   "execution_count": 7,
   "id": "a9432e1e",
   "metadata": {
    "hidden": true
   },
   "outputs": [
    {
     "data": {
      "text/plain": [
       "Index(['cloud_cover', 'sunshine', 'global_radiation', 'max_temp', 'mean_temp',\n",
       "       'min_temp', 'precipitation', 'pressure', 'snow_depth', 'date'],\n",
       "      dtype='object')"
      ]
     },
     "execution_count": 7,
     "metadata": {},
     "output_type": "execute_result"
    }
   ],
   "source": [
    "# drop 'date' column and convert 'datetime' to 'date'\n",
    "df = df.drop(columns = ['date'])\n",
    "df = df.rename(columns = {'datetime': 'date'})\n",
    "\n",
    "# check\n",
    "df.columns"
   ]
  },
  {
   "cell_type": "markdown",
   "id": "c5912dd5",
   "metadata": {
    "hidden": true
   },
   "source": [
    "## 1.2 Set the date column as the index."
   ]
  },
  {
   "cell_type": "code",
   "execution_count": 8,
   "id": "e5e32404",
   "metadata": {
    "hidden": true
   },
   "outputs": [
    {
     "name": "stdout",
     "output_type": "stream",
     "text": [
      "<class 'pandas.core.frame.DataFrame'>\n",
      "DatetimeIndex: 15341 entries, 1979-01-01 to 2020-12-31\n",
      "Data columns (total 9 columns):\n",
      " #   Column            Non-Null Count  Dtype  \n",
      "---  ------            --------------  -----  \n",
      " 0   cloud_cover       14938 non-null  float64\n",
      " 1   sunshine          14957 non-null  float64\n",
      " 2   global_radiation  14939 non-null  float64\n",
      " 3   max_temp          14951 non-null  float64\n",
      " 4   mean_temp         14922 non-null  float64\n",
      " 5   min_temp          14955 non-null  float64\n",
      " 6   precipitation     14951 non-null  float64\n",
      " 7   pressure          14953 non-null  float64\n",
      " 8   snow_depth        13589 non-null  float64\n",
      "dtypes: float64(9)\n",
      "memory usage: 1.2 MB\n"
     ]
    },
    {
     "data": {
      "text/html": [
       "<div>\n",
       "<style scoped>\n",
       "    .dataframe tbody tr th:only-of-type {\n",
       "        vertical-align: middle;\n",
       "    }\n",
       "\n",
       "    .dataframe tbody tr th {\n",
       "        vertical-align: top;\n",
       "    }\n",
       "\n",
       "    .dataframe thead th {\n",
       "        text-align: right;\n",
       "    }\n",
       "</style>\n",
       "<table border=\"1\" class=\"dataframe\">\n",
       "  <thead>\n",
       "    <tr style=\"text-align: right;\">\n",
       "      <th></th>\n",
       "      <th>cloud_cover</th>\n",
       "      <th>sunshine</th>\n",
       "      <th>global_radiation</th>\n",
       "      <th>max_temp</th>\n",
       "      <th>mean_temp</th>\n",
       "      <th>min_temp</th>\n",
       "      <th>precipitation</th>\n",
       "      <th>pressure</th>\n",
       "      <th>snow_depth</th>\n",
       "    </tr>\n",
       "    <tr>\n",
       "      <th>date</th>\n",
       "      <th></th>\n",
       "      <th></th>\n",
       "      <th></th>\n",
       "      <th></th>\n",
       "      <th></th>\n",
       "      <th></th>\n",
       "      <th></th>\n",
       "      <th></th>\n",
       "      <th></th>\n",
       "    </tr>\n",
       "  </thead>\n",
       "  <tbody>\n",
       "    <tr>\n",
       "      <th>1979-01-01</th>\n",
       "      <td>2.0</td>\n",
       "      <td>7.0</td>\n",
       "      <td>52.0</td>\n",
       "      <td>2.3</td>\n",
       "      <td>-4.1</td>\n",
       "      <td>-7.5</td>\n",
       "      <td>0.4</td>\n",
       "      <td>101900.0</td>\n",
       "      <td>9.0</td>\n",
       "    </tr>\n",
       "    <tr>\n",
       "      <th>1979-01-02</th>\n",
       "      <td>6.0</td>\n",
       "      <td>1.7</td>\n",
       "      <td>27.0</td>\n",
       "      <td>1.6</td>\n",
       "      <td>-2.6</td>\n",
       "      <td>-7.5</td>\n",
       "      <td>0.0</td>\n",
       "      <td>102530.0</td>\n",
       "      <td>8.0</td>\n",
       "    </tr>\n",
       "    <tr>\n",
       "      <th>1979-01-03</th>\n",
       "      <td>5.0</td>\n",
       "      <td>0.0</td>\n",
       "      <td>13.0</td>\n",
       "      <td>1.3</td>\n",
       "      <td>-2.8</td>\n",
       "      <td>-7.2</td>\n",
       "      <td>0.0</td>\n",
       "      <td>102050.0</td>\n",
       "      <td>4.0</td>\n",
       "    </tr>\n",
       "    <tr>\n",
       "      <th>1979-01-04</th>\n",
       "      <td>8.0</td>\n",
       "      <td>0.0</td>\n",
       "      <td>13.0</td>\n",
       "      <td>-0.3</td>\n",
       "      <td>-2.6</td>\n",
       "      <td>-6.5</td>\n",
       "      <td>0.0</td>\n",
       "      <td>100840.0</td>\n",
       "      <td>2.0</td>\n",
       "    </tr>\n",
       "    <tr>\n",
       "      <th>1979-01-05</th>\n",
       "      <td>6.0</td>\n",
       "      <td>2.0</td>\n",
       "      <td>29.0</td>\n",
       "      <td>5.6</td>\n",
       "      <td>-0.8</td>\n",
       "      <td>-1.4</td>\n",
       "      <td>0.0</td>\n",
       "      <td>102250.0</td>\n",
       "      <td>1.0</td>\n",
       "    </tr>\n",
       "  </tbody>\n",
       "</table>\n",
       "</div>"
      ],
      "text/plain": [
       "            cloud_cover  sunshine  global_radiation  max_temp  mean_temp  \\\n",
       "date                                                                       \n",
       "1979-01-01          2.0       7.0              52.0       2.3       -4.1   \n",
       "1979-01-02          6.0       1.7              27.0       1.6       -2.6   \n",
       "1979-01-03          5.0       0.0              13.0       1.3       -2.8   \n",
       "1979-01-04          8.0       0.0              13.0      -0.3       -2.6   \n",
       "1979-01-05          6.0       2.0              29.0       5.6       -0.8   \n",
       "\n",
       "            min_temp  precipitation  pressure  snow_depth  \n",
       "date                                                       \n",
       "1979-01-01      -7.5            0.4  101900.0         9.0  \n",
       "1979-01-02      -7.5            0.0  102530.0         8.0  \n",
       "1979-01-03      -7.2            0.0  102050.0         4.0  \n",
       "1979-01-04      -6.5            0.0  100840.0         2.0  \n",
       "1979-01-05      -1.4            0.0  102250.0         1.0  "
      ]
     },
     "execution_count": 8,
     "metadata": {},
     "output_type": "execute_result"
    }
   ],
   "source": [
    "# set index on 'date' column\n",
    "df = df.set_index('date')\n",
    "\n",
    "# check\n",
    "df.info()\n",
    "df.head()"
   ]
  },
  {
   "cell_type": "markdown",
   "id": "7b3ff049",
   "metadata": {
    "hidden": true
   },
   "source": [
    "## 1.3 Filter out only the required data."
   ]
  },
  {
   "cell_type": "markdown",
   "id": "b1b5ca55",
   "metadata": {
    "hidden": true
   },
   "source": [
    "Keep only data from the year 2000 or later. Keep only the following features: precipitation, mean_temp, min_temp, max_temp, and snow_depth."
   ]
  },
  {
   "cell_type": "code",
   "execution_count": 9,
   "id": "487e9ec2",
   "metadata": {
    "hidden": true
   },
   "outputs": [
    {
     "data": {
      "text/plain": [
       "Index(['cloud_cover', 'sunshine', 'global_radiation', 'max_temp', 'mean_temp',\n",
       "       'min_temp', 'precipitation', 'pressure', 'snow_depth'],\n",
       "      dtype='object')"
      ]
     },
     "execution_count": 9,
     "metadata": {},
     "output_type": "execute_result"
    }
   ],
   "source": [
    "# check columns\n",
    "df.columns"
   ]
  },
  {
   "cell_type": "code",
   "execution_count": 10,
   "id": "f9d552b5",
   "metadata": {
    "hidden": true
   },
   "outputs": [
    {
     "name": "stdout",
     "output_type": "stream",
     "text": [
      "<class 'pandas.core.frame.DataFrame'>\n",
      "DatetimeIndex: 7671 entries, 2000-01-01 to 2020-12-31\n",
      "Data columns (total 5 columns):\n",
      " #   Column         Non-Null Count  Dtype  \n",
      "---  ------         --------------  -----  \n",
      " 0   precipitation  7281 non-null   float64\n",
      " 1   mean_temp      7252 non-null   float64\n",
      " 2   min_temp       7285 non-null   float64\n",
      " 3   max_temp       7281 non-null   float64\n",
      " 4   snow_depth     5919 non-null   float64\n",
      "dtypes: float64(5)\n",
      "memory usage: 359.6 KB\n"
     ]
    },
    {
     "data": {
      "text/html": [
       "<div>\n",
       "<style scoped>\n",
       "    .dataframe tbody tr th:only-of-type {\n",
       "        vertical-align: middle;\n",
       "    }\n",
       "\n",
       "    .dataframe tbody tr th {\n",
       "        vertical-align: top;\n",
       "    }\n",
       "\n",
       "    .dataframe thead th {\n",
       "        text-align: right;\n",
       "    }\n",
       "</style>\n",
       "<table border=\"1\" class=\"dataframe\">\n",
       "  <thead>\n",
       "    <tr style=\"text-align: right;\">\n",
       "      <th></th>\n",
       "      <th>precipitation</th>\n",
       "      <th>mean_temp</th>\n",
       "      <th>min_temp</th>\n",
       "      <th>max_temp</th>\n",
       "      <th>snow_depth</th>\n",
       "    </tr>\n",
       "    <tr>\n",
       "      <th>date</th>\n",
       "      <th></th>\n",
       "      <th></th>\n",
       "      <th></th>\n",
       "      <th></th>\n",
       "      <th></th>\n",
       "    </tr>\n",
       "  </thead>\n",
       "  <tbody>\n",
       "    <tr>\n",
       "      <th>2000-01-01</th>\n",
       "      <td>0.0</td>\n",
       "      <td>7.0</td>\n",
       "      <td>4.9</td>\n",
       "      <td>10.8</td>\n",
       "      <td>0.0</td>\n",
       "    </tr>\n",
       "    <tr>\n",
       "      <th>2000-01-02</th>\n",
       "      <td>0.2</td>\n",
       "      <td>7.9</td>\n",
       "      <td>5.0</td>\n",
       "      <td>11.5</td>\n",
       "      <td>0.0</td>\n",
       "    </tr>\n",
       "    <tr>\n",
       "      <th>2000-01-03</th>\n",
       "      <td>6.0</td>\n",
       "      <td>9.4</td>\n",
       "      <td>7.2</td>\n",
       "      <td>9.5</td>\n",
       "      <td>0.0</td>\n",
       "    </tr>\n",
       "    <tr>\n",
       "      <th>2000-01-04</th>\n",
       "      <td>0.2</td>\n",
       "      <td>7.0</td>\n",
       "      <td>4.4</td>\n",
       "      <td>11.0</td>\n",
       "      <td>0.0</td>\n",
       "    </tr>\n",
       "    <tr>\n",
       "      <th>2000-01-05</th>\n",
       "      <td>0.8</td>\n",
       "      <td>6.4</td>\n",
       "      <td>1.9</td>\n",
       "      <td>10.8</td>\n",
       "      <td>0.0</td>\n",
       "    </tr>\n",
       "  </tbody>\n",
       "</table>\n",
       "</div>"
      ],
      "text/plain": [
       "            precipitation  mean_temp  min_temp  max_temp  snow_depth\n",
       "date                                                                \n",
       "2000-01-01            0.0        7.0       4.9      10.8         0.0\n",
       "2000-01-02            0.2        7.9       5.0      11.5         0.0\n",
       "2000-01-03            6.0        9.4       7.2       9.5         0.0\n",
       "2000-01-04            0.2        7.0       4.4      11.0         0.0\n",
       "2000-01-05            0.8        6.4       1.9      10.8         0.0"
      ]
     },
     "execution_count": 10,
     "metadata": {},
     "output_type": "execute_result"
    }
   ],
   "source": [
    "# filter for year 2000 and later, and for necessary columns\n",
    "filtered_df = df.loc['2000':, ['precipitation',\n",
    "                              'mean_temp',\n",
    "                              'min_temp',\n",
    "                              'max_temp',\n",
    "                              'snow_depth']]\n",
    "\n",
    "# check\n",
    "filtered_df.info()\n",
    "filtered_df.head()"
   ]
  },
  {
   "cell_type": "code",
   "execution_count": 11,
   "id": "29aeed56",
   "metadata": {
    "hidden": true
   },
   "outputs": [
    {
     "data": {
      "text/plain": [
       "Timestamp('2000-01-01 00:00:00')"
      ]
     },
     "execution_count": 11,
     "metadata": {},
     "output_type": "execute_result"
    }
   ],
   "source": [
    "# check filter by checking min index\n",
    "filtered_df.index.min()"
   ]
  },
  {
   "cell_type": "code",
   "execution_count": 12,
   "id": "69c0ea5d",
   "metadata": {
    "hidden": true
   },
   "outputs": [],
   "source": [
    "# rename filtered_df to df for easier code\n",
    "df = filtered_df.copy()"
   ]
  },
  {
   "cell_type": "markdown",
   "id": "e57a6275",
   "metadata": {
    "hidden": true
   },
   "source": [
    "## 1.4 Impute any missing values."
   ]
  },
  {
   "cell_type": "code",
   "execution_count": 13,
   "id": "d3dd05a3",
   "metadata": {
    "hidden": true
   },
   "outputs": [
    {
     "data": {
      "text/plain": [
       "precipitation     390\n",
       "mean_temp         419\n",
       "min_temp          386\n",
       "max_temp          390\n",
       "snow_depth       1752\n",
       "dtype: int64"
      ]
     },
     "execution_count": 13,
     "metadata": {},
     "output_type": "execute_result"
    }
   ],
   "source": [
    "# check missing values\n",
    "df.isna().sum()"
   ]
  },
  {
   "cell_type": "markdown",
   "id": "f2c5436e",
   "metadata": {
    "hidden": true
   },
   "source": [
    "For the temperature features, interpolation makes sense. For precipitation and snow depth, though, it does not. Instead we will impute 0 as a stand-in for the missing data in those columns."
   ]
  },
  {
   "cell_type": "code",
   "execution_count": 14,
   "id": "5cf8604a",
   "metadata": {
    "hidden": true
   },
   "outputs": [
    {
     "data": {
      "text/plain": [
       "precipitation    0\n",
       "mean_temp        0\n",
       "min_temp         0\n",
       "max_temp         0\n",
       "snow_depth       0\n",
       "dtype: int64"
      ]
     },
     "execution_count": 14,
     "metadata": {},
     "output_type": "execute_result"
    }
   ],
   "source": [
    "# temperature features: interpolate\n",
    "df['min_temp'] = df['min_temp'].interpolate()\n",
    "df['mean_temp'] = df['mean_temp'].interpolate()\n",
    "df['max_temp'] = df['max_temp'].interpolate()\n",
    "\n",
    "# precipitation and snow depth: impute 0\n",
    "df['precipitation'] = df['precipitation'].fillna(0)\n",
    "df['snow_depth'] = df['snow_depth'].fillna(0)\n",
    "\n",
    "# check\n",
    "df.isna().sum()"
   ]
  },
  {
   "cell_type": "markdown",
   "id": "ffbeeb67",
   "metadata": {},
   "source": [
    "# 2 Part 2: Answer questions with visualizations"
   ]
  },
  {
   "cell_type": "markdown",
   "id": "43f039ef",
   "metadata": {},
   "source": [
    "## 2.1 Question 1: What month had the most precipitation between 2000 through 2010?"
   ]
  },
  {
   "cell_type": "markdown",
   "id": "df92c25f",
   "metadata": {},
   "source": [
    "Steps:\n",
    "1. Resample the data as Monthly frequency.\n",
    "2. Find the date and corresponding value for the max precipitation.\n",
    "3. Plot the feature and time period that corresponds to the question.\n",
    "    - Add a vertical line at the date of max precipitation with a label that says the date (using date format: \"April 2000\") and the max precipitation value. Make sure to add a legend so that the label is visible.\n",
    "    \n",
    "NOTE: Pandas' .plot method currently has a bug with 4-digit year axis labels. The tick labels misbehave when being formatted with matplotlib and will produce a mostly-blank axis with 1 year labeled. To get around this issue, first, create your fig and ax using plt.subplots(), then use pandas .plot method to plot this figure by adding the argument \"ax=ax\" to .plot().\n",
    "\n",
    "```\n",
    "fig, ax = plt.subplots(figsize=(12,3))\n",
    "df.plot(ax=ax)\n",
    "```\n"
   ]
  },
  {
   "cell_type": "markdown",
   "id": "4545bf6d",
   "metadata": {},
   "source": [
    "### 2.1.1 Resample the data as Monthly frequency"
   ]
  },
  {
   "cell_type": "markdown",
   "id": "d7427bef",
   "metadata": {},
   "source": [
    "The instructions don't stipulate an aggregate function for resampling, so I will use the mean. I will set the dates for each measurement as the first of the month."
   ]
  },
  {
   "cell_type": "code",
   "execution_count": 15,
   "id": "24582ef2",
   "metadata": {},
   "outputs": [
    {
     "data": {
      "text/plain": [
       "date\n",
       "2000-01-01    0.0\n",
       "2000-01-02    0.2\n",
       "2000-01-03    6.0\n",
       "2000-01-04    0.2\n",
       "2000-01-05    0.8\n",
       "Name: precipitation, dtype: float64"
      ]
     },
     "execution_count": 15,
     "metadata": {},
     "output_type": "execute_result"
    }
   ],
   "source": [
    "# create series for precipitation only\n",
    "ts = df['precipitation'].copy()\n",
    "\n",
    "# check\n",
    "ts.head()"
   ]
  },
  {
   "cell_type": "code",
   "execution_count": 16,
   "id": "7a934d35",
   "metadata": {},
   "outputs": [
    {
     "name": "stdout",
     "output_type": "stream",
     "text": [
      "2000-01-01 00:00:00\n",
      "2010-12-31 00:00:00\n"
     ]
    }
   ],
   "source": [
    "# limit series to years 2000-2010\n",
    "ts = ts.loc['2000':'2010']\n",
    "\n",
    "# check\n",
    "print(ts.index.min())\n",
    "print(ts.index.max())"
   ]
  },
  {
   "cell_type": "code",
   "execution_count": 17,
   "id": "5aec6aa4",
   "metadata": {},
   "outputs": [
    {
     "data": {
      "text/plain": [
       "date\n",
       "2000-01-01    0.0\n",
       "2000-02-01    9.8\n",
       "2000-03-01    0.2\n",
       "2000-04-01    0.6\n",
       "2000-05-01    0.0\n",
       "Freq: MS, Name: precipitation, dtype: float64"
      ]
     },
     "execution_count": 17,
     "metadata": {},
     "output_type": "execute_result"
    }
   ],
   "source": [
    "# check beginning of month numbers\n",
    "ts_beg_month = ts.asfreq(\"MS\")\n",
    "ts_beg_month.head()"
   ]
  },
  {
   "cell_type": "code",
   "execution_count": 18,
   "id": "591aa43e",
   "metadata": {},
   "outputs": [
    {
     "data": {
      "text/plain": [
       "date\n",
       "2000-01-01    0.461290\n",
       "2000-02-01    2.144828\n",
       "2000-03-01    0.432258\n",
       "2000-04-01    2.393333\n",
       "2000-05-01    2.206452\n",
       "Freq: MS, Name: precipitation, dtype: float64"
      ]
     },
     "execution_count": 18,
     "metadata": {},
     "output_type": "execute_result"
    }
   ],
   "source": [
    "# resample with monthly frequency; take mean of month\n",
    "ts = ts.resample(\"MS\").mean()\n",
    "\n",
    "# check\n",
    "ts.head()"
   ]
  },
  {
   "cell_type": "markdown",
   "id": "2c0ad605",
   "metadata": {},
   "source": [
    "### 2.1.2 Find the date and corresponding value for the max precipitation."
   ]
  },
  {
   "cell_type": "code",
   "execution_count": 19,
   "id": "337c453c",
   "metadata": {},
   "outputs": [
    {
     "data": {
      "text/plain": [
       "Timestamp('2009-11-01 00:00:00', freq='MS')"
      ]
     },
     "execution_count": 19,
     "metadata": {},
     "output_type": "execute_result"
    }
   ],
   "source": [
    "# find date\n",
    "max_precip_date = ts.idxmax()\n",
    "\n",
    "# check\n",
    "max_precip_date"
   ]
  },
  {
   "cell_type": "code",
   "execution_count": 20,
   "id": "0ddb0fc4",
   "metadata": {},
   "outputs": [
    {
     "data": {
      "text/plain": [
       "4.613333333333333"
      ]
     },
     "execution_count": 20,
     "metadata": {},
     "output_type": "execute_result"
    }
   ],
   "source": [
    "# find value\n",
    "ts.loc[max_precip_date]"
   ]
  },
  {
   "cell_type": "markdown",
   "id": "64021206",
   "metadata": {},
   "source": [
    "### 2.1.3 Plot the feature and time period that corresponds to the question."
   ]
  },
  {
   "cell_type": "markdown",
   "id": "a3e76d6b",
   "metadata": {},
   "source": [
    "Add a vertical line at the date with max precipitation with a label that says the date (using date format: \"April 2000\") and the max precipitation value. Make sure to add a legend so that the label is visible."
   ]
  },
  {
   "cell_type": "markdown",
   "id": "81bc7006",
   "metadata": {},
   "source": [
    "Feature: precipitation\n",
    "\n",
    "Time period: 2000-2010"
   ]
  },
  {
   "cell_type": "code",
   "execution_count": 21,
   "id": "0ea5279d",
   "metadata": {},
   "outputs": [
    {
     "data": {
      "image/png": "[encoded data removed]",
      "text/plain": [
       "<Figure size 1200x300 with 1 Axes>"
      ]
     },
     "metadata": {},
     "output_type": "display_data"
    }
   ],
   "source": [
    "# set subplots figsize\n",
    "fig, ax = plt.subplots(figsize = (12, 3))\n",
    "\n",
    "# cusomize major x-axis ticks\n",
    "# one tick every year\n",
    "major_ticks_loc = mdates.YearLocator(1)\n",
    "# 4-digit-year labels\n",
    "major_ticks_format = mdates.DateFormatter('%Y')\n",
    "# set locator and formatter\n",
    "ax.xaxis.set_major_locator(major_ticks_loc)\n",
    "ax.xaxis.set_major_formatter(major_ticks_format)\n",
    "\n",
    "# customize minor x-axis ticks\n",
    "# one tick every 3 months\n",
    "minor_ticks_loc = mdates.MonthLocator(interval = 3)\n",
    "# no minor tick labels\n",
    "# set locator (no formatter)\n",
    "ax.xaxis.set_minor_locator(minor_ticks_loc)\n",
    "\n",
    "# plot\n",
    "ts.plot(ax = ax)\n",
    "\n",
    "# rotate major tick labels on x-axis 90 degrees\n",
    "fig.autofmt_xdate(which = 'major',\n",
    "                 rotation = 90)\n",
    "\n",
    "# set title and axis labels\n",
    "ax.set_title('Average Monthly Precipitation, 2000-2010',\n",
    "            fontsize = 20)\n",
    "ax.set_ylabel('Inches',\n",
    "             fontsize = 16,\n",
    "             labelpad = 10)\n",
    "ax.set_xlabel('Date',\n",
    "             fontsize = 16,\n",
    "             labelpad = 12)\n",
    "\n",
    "# make year labels on major ticks on x-axis centered\n",
    "for label in ax.xaxis.get_majorticklabels():\n",
    "    label.set_horizontalalignment('center')\n",
    "    \n",
    "# set fontsize for major x-axis ticks\n",
    "ax.tick_params(axis = 'x',\n",
    "              which = 'major',\n",
    "              labelsize = 12)\n",
    "    \n",
    "# add vertical line at max_precip_date\n",
    "ax.axvline(x = max_precip_date, \n",
    "          color = 'r', \n",
    "          linestyle = '--',\n",
    "          label = f'Highest Month,\\n{max_precip_date:%B %Y}')\n",
    "\n",
    "# capitalize words in legend \n",
    "handles, labels = ax.get_legend_handles_labels()\n",
    "labels = [label.title() for label in labels]\n",
    "\n",
    "# add legend\n",
    "ax.legend(handles,\n",
    "          labels,\n",
    "          loc = 'lower right',\n",
    "          bbox_to_anchor = (1.0, -0.75),\n",
    "          prop = {'size': 12});"
   ]
  },
  {
   "cell_type": "markdown",
   "id": "8dab717e",
   "metadata": {},
   "source": [
    "## 2.2 Question 2: Which year between 2000-2020 had the coolest average temperature?"
   ]
  },
  {
   "cell_type": "markdown",
   "id": "328ab09a",
   "metadata": {},
   "source": [
    "Steps:\n",
    "1. Resample the data as Yearly frequency.\n",
    "2. Find the date and corresponding value for the lowest mean temp.\n",
    "3. Plot the feature and time period that corresponds to the question.\n",
    "    - Add a vertical line at the date with the lowest mean temp with a label that says the date (using date format: \"2000\") and the lowest mean temperature value."
   ]
  },
  {
   "cell_type": "markdown",
   "id": "df48820e",
   "metadata": {},
   "source": [
    "### 2.2.1 Resample the data as Yearly frequency"
   ]
  },
  {
   "cell_type": "markdown",
   "id": "febd12f3",
   "metadata": {},
   "source": [
    "The instructions don't stipulate an aggregate function for resampling, so I will use the mean. I will set the dates for each measurement as the first of the year."
   ]
  },
  {
   "cell_type": "code",
   "execution_count": 22,
   "id": "a91c5d29",
   "metadata": {},
   "outputs": [
    {
     "data": {
      "text/plain": [
       "date\n",
       "2000-01-01    7.0\n",
       "2000-01-02    7.9\n",
       "2000-01-03    9.4\n",
       "2000-01-04    7.0\n",
       "2000-01-05    6.4\n",
       "Name: mean_temp, dtype: float64"
      ]
     },
     "execution_count": 22,
     "metadata": {},
     "output_type": "execute_result"
    }
   ],
   "source": [
    "# create series for mean temp only\n",
    "ts = df['mean_temp'].copy()\n",
    "\n",
    "# check\n",
    "ts.head()"
   ]
  },
  {
   "cell_type": "code",
   "execution_count": 23,
   "id": "4b2320ac",
   "metadata": {},
   "outputs": [
    {
     "name": "stdout",
     "output_type": "stream",
     "text": [
      "2000-01-01 00:00:00\n",
      "2020-12-31 00:00:00\n"
     ]
    }
   ],
   "source": [
    "# limit series to years 2000-2020\n",
    "ts = ts.loc['2000':'2020']\n",
    "\n",
    "# check\n",
    "print(ts.index.min())\n",
    "print(ts.index.max())"
   ]
  },
  {
   "cell_type": "code",
   "execution_count": 24,
   "id": "f1bc5590",
   "metadata": {},
   "outputs": [
    {
     "data": {
      "text/plain": [
       "date\n",
       "2000-01-01    7.0\n",
       "2001-01-01    5.3\n",
       "2002-01-01   -0.8\n",
       "2003-01-01    8.3\n",
       "2004-01-01    4.3\n",
       "Freq: AS-JAN, Name: mean_temp, dtype: float64"
      ]
     },
     "execution_count": 24,
     "metadata": {},
     "output_type": "execute_result"
    }
   ],
   "source": [
    "# check beginning of year numbers\n",
    "ts_beg_month = ts.asfreq(\"AS\")\n",
    "ts_beg_month.head()"
   ]
  },
  {
   "cell_type": "code",
   "execution_count": 25,
   "id": "5fe168c8",
   "metadata": {},
   "outputs": [
    {
     "data": {
      "text/plain": [
       "date\n",
       "2000-01-01    11.575683\n",
       "2001-01-01    11.331507\n",
       "2002-01-01    12.084247\n",
       "2003-01-01    12.114521\n",
       "2004-01-01    11.900683\n",
       "Freq: AS-JAN, Name: mean_temp, dtype: float64"
      ]
     },
     "execution_count": 25,
     "metadata": {},
     "output_type": "execute_result"
    }
   ],
   "source": [
    "# resample with yearly frequency; take mean of year\n",
    "ts = ts.resample(\"AS\").mean()\n",
    "\n",
    "# check\n",
    "ts.head()"
   ]
  },
  {
   "cell_type": "markdown",
   "id": "e0849fb8",
   "metadata": {},
   "source": [
    "### 2.2.2 Find the date and corresponding value for the lowest mean temp"
   ]
  },
  {
   "cell_type": "code",
   "execution_count": 26,
   "id": "dd2db1f2",
   "metadata": {},
   "outputs": [
    {
     "data": {
      "text/plain": [
       "Timestamp('2010-01-01 00:00:00', freq='AS-JAN')"
      ]
     },
     "execution_count": 26,
     "metadata": {},
     "output_type": "execute_result"
    }
   ],
   "source": [
    "# find date\n",
    "min_mean_temp_date = ts.idxmin()\n",
    "\n",
    "# check\n",
    "min_mean_temp_date"
   ]
  },
  {
   "cell_type": "code",
   "execution_count": 27,
   "id": "685cf8c8",
   "metadata": {},
   "outputs": [
    {
     "data": {
      "text/plain": [
       "10.657397260273973"
      ]
     },
     "execution_count": 27,
     "metadata": {},
     "output_type": "execute_result"
    }
   ],
   "source": [
    "# find value\n",
    "ts.loc[min_mean_temp_date]"
   ]
  },
  {
   "cell_type": "markdown",
   "id": "3c370b1c",
   "metadata": {},
   "source": [
    "### 2.2.3 Plot the feature and time period that corresponds to the question"
   ]
  },
  {
   "cell_type": "markdown",
   "id": "e6bcd4f8",
   "metadata": {},
   "source": [
    "Add a vertical line at the date with the lowest mean temp with a label that says the date (using date format: \"2000\") and the lowest mean temperature value."
   ]
  },
  {
   "cell_type": "markdown",
   "id": "8f9a0d26",
   "metadata": {},
   "source": [
    "Feature: mean temp\n",
    "\n",
    "Time period: 2000-2020"
   ]
  },
  {
   "cell_type": "code",
   "execution_count": 28,
   "id": "619a248b",
   "metadata": {},
   "outputs": [
    {
     "data": {
      "image/png": "[encoded data removed]",
      "text/plain": [
       "<Figure size 1200x300 with 1 Axes>"
      ]
     },
     "metadata": {},
     "output_type": "display_data"
    }
   ],
   "source": [
    "# set subplots figsize\n",
    "fig, ax = plt.subplots(figsize = (12, 3))\n",
    "\n",
    "# cusomize major x-axis ticks\n",
    "# one tick every year\n",
    "major_ticks_loc = mdates.YearLocator(5)\n",
    "# 4-digit-year labels\n",
    "major_ticks_format = mdates.DateFormatter('%Y')\n",
    "# set locator and formatter\n",
    "ax.xaxis.set_major_locator(major_ticks_loc)\n",
    "ax.xaxis.set_major_formatter(major_ticks_format)\n",
    "\n",
    "# customize minor x-axis ticks\n",
    "# one tick every 3 months\n",
    "minor_ticks_loc = mdates.YearLocator(1)\n",
    "# no minor tick labels\n",
    "# set locator (no formatter)\n",
    "ax.xaxis.set_minor_locator(minor_ticks_loc)\n",
    "\n",
    "# plot\n",
    "ts.plot(ax = ax)\n",
    "\n",
    "# rotate major tick labels on x-axis 90 degrees\n",
    "fig.autofmt_xdate(which = 'major',\n",
    "                 rotation = 90)\n",
    "\n",
    "# set title and axis labels\n",
    "ax.set_title('Average Yearly Temperature, 2000-2020',\n",
    "            fontsize = 20)\n",
    "ax.set_ylabel('Degrees',\n",
    "             fontsize = 16,\n",
    "             labelpad = 10)\n",
    "ax.set_xlabel('Date',\n",
    "             fontsize = 16,\n",
    "             labelpad = 12)\n",
    "ax.set_ylim(bottom = 0,\n",
    "           top = 15)\n",
    "\n",
    "# make year labels on major ticks on x-axis centered\n",
    "for label in ax.xaxis.get_majorticklabels():\n",
    "    label.set_horizontalalignment('center')\n",
    "    \n",
    "# set fontsize for major x-axis ticks\n",
    "ax.tick_params(axis = 'x',\n",
    "              which = 'major',\n",
    "              labelsize = 12)\n",
    "    \n",
    "# add vertical line at max_precip_date\n",
    "ax.axvline(x = min_mean_temp_date, \n",
    "          color = 'r', \n",
    "          linestyle = '--',\n",
    "          label = f'Lowest Year,\\n{min_mean_temp_date:%Y}')\n",
    "\n",
    "# capitalize words in legend \n",
    "handles, labels = ax.get_legend_handles_labels()\n",
    "labels = [label.title() for label in labels]\n",
    "\n",
    "# add legend\n",
    "ax.legend(handles,\n",
    "          labels,\n",
    "          loc = 'lower right',\n",
    "          bbox_to_anchor = (1.0, -0.75),\n",
    "          prop = {'size': 12});"
   ]
  }
 ],
 "metadata": {
  "kernelspec": {
   "display_name": "Python (dojo-env)",
   "language": "python",
   "name": "dojo-env"
  },
  "language_info": {
   "codemirror_mode": {
    "name": "ipython",
    "version": 3
   },
   "file_extension": ".py",
   "mimetype": "text/x-python",
   "name": "python",
   "nbconvert_exporter": "python",
   "pygments_lexer": "ipython3",
   "version": "3.9.15"
  },
  "toc": {
   "base_numbering": 1,
   "nav_menu": {},
   "number_sections": false,
   "sideBar": true,
   "skip_h1_title": false,
   "title_cell": "Table of Contents",
   "title_sidebar": "Contents",
   "toc_cell": false,
   "toc_position": {},
   "toc_section_display": true,
   "toc_window_display": false
  }
 },
 "nbformat": 4,
 "nbformat_minor": 5
}
