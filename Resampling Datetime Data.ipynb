{
 "cells": [
  {
   "cell_type": "markdown",
   "id": "c7a58a80",
   "metadata": {},
   "source": [
    "# Resampling Datetime Data"
   ]
  },
  {
   "cell_type": "markdown",
   "id": "841a2676",
   "metadata": {},
   "source": [
    "Work with a modified version of weather data from London from Kaggle, here: \n",
    "\n",
    "https://docs.google.com/spreadsheets/d/e/2PACX-1vT_jChgNsQbHbg4TGepzIqk8XC9DTIKmyyxb1upo5cfZCgbfIUQc2ZC0YMzuU5uApP140Ob49KBjdqh/pub?gid=1198589591&single=true&output=csv"
   ]
  },
  {
   "cell_type": "markdown",
   "id": "aac586dd",
   "metadata": {},
   "source": [
    "**Part 1 Goal: Load data and make a datetime index**\n",
    "1. Convert the date column to datetime dtype.\n",
    "2. Set the date column as the index.\n",
    "3. Filter out only the required data. Keep only data from the year 2000 or later.\n",
    "4. Keep only the following features: precipitation, mean_temp, min_temp, max_temp, snow_depth\n",
    "5. Impute any missing values.\n",
    "\n",
    "**Part 2 Goal: Answer the Questions with Visualizations**\n",
    "\n",
    "For each of the following questions, make a new copy of the dataframe resampled to the correct frequency for the question.\n",
    "- Q1: Q1: What month had the most precipitation between 2000 through 2010?\n",
    "    - Resample the data as Monthly frequency.\n",
    "    - Find the date and corresponding value for the max precipitation.\n",
    "    - Plot the feature and time period that corresponds to the question.\n",
    "    - Determine the date and value for the most precipitation (the max precipitation).\n",
    "    - Add a vertical line at this date with a label that says the date (using date format: \"April 2000\") and the max precipitation value. Make sure to add a legend so that the label is visible.\n",
    "    \n",
    "NOTE: Pandas' .plot method currently has a bug with 4-digit year axis labels. The tick labels misbehave when being formatted with matplotlib and will produce a mostly-blank axis with 1 year labeled. To get around this issue, first, create your fig and ax using plt.subplots(), then use pandas .plot method to plot this figure by adding the argument \"ax=ax\" to .plot().\n",
    "\n",
    "```\n",
    "fig, ax = plt.subplots(figsize=(12,3))\n",
    "df.plot(ax=ax)\n",
    "```\n",
    "\n",
    "- Q2: Which year between 2000-2020 had the coolest average temperature?\n",
    "    - Resample the data as Yearly frequency.\n",
    "    - Plot the feature and time period that corresponds to the question.\n",
    "    - Determine the date and value for the lowest mean temp.\n",
    "    - Add a vertical line at this date with a label that says the date (using date format: \"2000\") and the lowest mean temperature value.\n",
    "\n"
   ]
  },
  {
   "cell_type": "markdown",
   "id": "6f6ad67c",
   "metadata": {
    "heading_collapsed": true
   },
   "source": [
    "# 0 Preliminary Steps"
   ]
  },
  {
   "cell_type": "code",
   "execution_count": 130,
   "id": "fd041676",
   "metadata": {
    "hidden": true
   },
   "outputs": [],
   "source": [
    "# imports\n",
    "import pandas as pd\n",
    "import datetime as dt\n",
    "from matplotlib import dates as mdates\n",
    "import matplotlib.pyplot as plt"
   ]
  },
  {
   "cell_type": "code",
   "execution_count": 111,
   "id": "09a80ba3",
   "metadata": {
    "hidden": true
   },
   "outputs": [
    {
     "name": "stdout",
     "output_type": "stream",
     "text": [
      "<class 'pandas.core.frame.DataFrame'>\n",
      "RangeIndex: 15341 entries, 0 to 15340\n",
      "Data columns (total 10 columns):\n",
      " #   Column            Non-Null Count  Dtype  \n",
      "---  ------            --------------  -----  \n",
      " 0   date              15341 non-null  int64  \n",
      " 1   cloud_cover       14938 non-null  float64\n",
      " 2   sunshine          14957 non-null  float64\n",
      " 3   global_radiation  14939 non-null  float64\n",
      " 4   max_temp          14951 non-null  float64\n",
      " 5   mean_temp         14922 non-null  float64\n",
      " 6   min_temp          14955 non-null  float64\n",
      " 7   precipitation     14951 non-null  float64\n",
      " 8   pressure          14953 non-null  float64\n",
      " 9   snow_depth        13589 non-null  float64\n",
      "dtypes: float64(9), int64(1)\n",
      "memory usage: 1.2 MB\n"
     ]
    },
    {
     "data": {
      "text/html": [
       "<div>\n",
       "<style scoped>\n",
       "    .dataframe tbody tr th:only-of-type {\n",
       "        vertical-align: middle;\n",
       "    }\n",
       "\n",
       "    .dataframe tbody tr th {\n",
       "        vertical-align: top;\n",
       "    }\n",
       "\n",
       "    .dataframe thead th {\n",
       "        text-align: right;\n",
       "    }\n",
       "</style>\n",
       "<table border=\"1\" class=\"dataframe\">\n",
       "  <thead>\n",
       "    <tr style=\"text-align: right;\">\n",
       "      <th></th>\n",
       "      <th>date</th>\n",
       "      <th>cloud_cover</th>\n",
       "      <th>sunshine</th>\n",
       "      <th>global_radiation</th>\n",
       "      <th>max_temp</th>\n",
       "      <th>mean_temp</th>\n",
       "      <th>min_temp</th>\n",
       "      <th>precipitation</th>\n",
       "      <th>pressure</th>\n",
       "      <th>snow_depth</th>\n",
       "    </tr>\n",
       "  </thead>\n",
       "  <tbody>\n",
       "    <tr>\n",
       "      <th>0</th>\n",
       "      <td>19790101</td>\n",
       "      <td>2.0</td>\n",
       "      <td>7.0</td>\n",
       "      <td>52.0</td>\n",
       "      <td>2.3</td>\n",
       "      <td>-4.1</td>\n",
       "      <td>-7.5</td>\n",
       "      <td>0.4</td>\n",
       "      <td>101900.0</td>\n",
       "      <td>9.0</td>\n",
       "    </tr>\n",
       "    <tr>\n",
       "      <th>1</th>\n",
       "      <td>19790102</td>\n",
       "      <td>6.0</td>\n",
       "      <td>1.7</td>\n",
       "      <td>27.0</td>\n",
       "      <td>1.6</td>\n",
       "      <td>-2.6</td>\n",
       "      <td>-7.5</td>\n",
       "      <td>0.0</td>\n",
       "      <td>102530.0</td>\n",
       "      <td>8.0</td>\n",
       "    </tr>\n",
       "    <tr>\n",
       "      <th>2</th>\n",
       "      <td>19790103</td>\n",
       "      <td>5.0</td>\n",
       "      <td>0.0</td>\n",
       "      <td>13.0</td>\n",
       "      <td>1.3</td>\n",
       "      <td>-2.8</td>\n",
       "      <td>-7.2</td>\n",
       "      <td>0.0</td>\n",
       "      <td>102050.0</td>\n",
       "      <td>4.0</td>\n",
       "    </tr>\n",
       "    <tr>\n",
       "      <th>3</th>\n",
       "      <td>19790104</td>\n",
       "      <td>8.0</td>\n",
       "      <td>0.0</td>\n",
       "      <td>13.0</td>\n",
       "      <td>-0.3</td>\n",
       "      <td>-2.6</td>\n",
       "      <td>-6.5</td>\n",
       "      <td>0.0</td>\n",
       "      <td>100840.0</td>\n",
       "      <td>2.0</td>\n",
       "    </tr>\n",
       "    <tr>\n",
       "      <th>4</th>\n",
       "      <td>19790105</td>\n",
       "      <td>6.0</td>\n",
       "      <td>2.0</td>\n",
       "      <td>29.0</td>\n",
       "      <td>5.6</td>\n",
       "      <td>-0.8</td>\n",
       "      <td>-1.4</td>\n",
       "      <td>0.0</td>\n",
       "      <td>102250.0</td>\n",
       "      <td>1.0</td>\n",
       "    </tr>\n",
       "  </tbody>\n",
       "</table>\n",
       "</div>"
      ],
      "text/plain": [
       "       date  cloud_cover  sunshine  global_radiation  max_temp  mean_temp  \\\n",
       "0  19790101          2.0       7.0              52.0       2.3       -4.1   \n",
       "1  19790102          6.0       1.7              27.0       1.6       -2.6   \n",
       "2  19790103          5.0       0.0              13.0       1.3       -2.8   \n",
       "3  19790104          8.0       0.0              13.0      -0.3       -2.6   \n",
       "4  19790105          6.0       2.0              29.0       5.6       -0.8   \n",
       "\n",
       "   min_temp  precipitation  pressure  snow_depth  \n",
       "0      -7.5            0.4  101900.0         9.0  \n",
       "1      -7.5            0.0  102530.0         8.0  \n",
       "2      -7.2            0.0  102050.0         4.0  \n",
       "3      -6.5            0.0  100840.0         2.0  \n",
       "4      -1.4            0.0  102250.0         1.0  "
      ]
     },
     "execution_count": 111,
     "metadata": {},
     "output_type": "execute_result"
    }
   ],
   "source": [
    "# load data\n",
    "df = pd.read_csv('https://docs.google.com/spreadsheets/d/e/2PACX-1vT_jChgNsQbHbg4TGepzIqk8XC9DTIKmyyxb1upo5cfZCgbfIUQc2ZC0YMzuU5uApP140Ob49KBjdqh/pub?gid=1198589591&single=true&output=csv')\n",
    "\n",
    "# check\n",
    "df.info()\n",
    "df.head()"
   ]
  },
  {
   "cell_type": "code",
   "execution_count": 112,
   "id": "4a4a840c",
   "metadata": {
    "hidden": true
   },
   "outputs": [],
   "source": [
    "# save copy of df if needed\n",
    "df_copy = df.copy()"
   ]
  },
  {
   "cell_type": "markdown",
   "id": "0c11956f",
   "metadata": {
    "heading_collapsed": true
   },
   "source": [
    "# 1 Part 1: Load data and make a datetime index"
   ]
  },
  {
   "cell_type": "markdown",
   "id": "3c842a52",
   "metadata": {
    "hidden": true
   },
   "source": [
    "## 1.1 Convert the date column to datetime dtype."
   ]
  },
  {
   "cell_type": "code",
   "execution_count": 113,
   "id": "e9b20732",
   "metadata": {
    "hidden": true
   },
   "outputs": [
    {
     "name": "stdout",
     "output_type": "stream",
     "text": [
      "datetime64[ns]\n"
     ]
    },
    {
     "data": {
      "text/plain": [
       "0   1970-01-01 00:00:00.019790101\n",
       "1   1970-01-01 00:00:00.019790102\n",
       "2   1970-01-01 00:00:00.019790103\n",
       "3   1970-01-01 00:00:00.019790104\n",
       "4   1970-01-01 00:00:00.019790105\n",
       "Name: datetime, dtype: datetime64[ns]"
      ]
     },
     "execution_count": 113,
     "metadata": {},
     "output_type": "execute_result"
    }
   ],
   "source": [
    "# convert column to new column of datetime objects\n",
    "df['datetime'] = pd.to_datetime(df['date'])\n",
    "\n",
    "# check\n",
    "print(df['datetime'].dtype)\n",
    "df['datetime'].head()"
   ]
  },
  {
   "cell_type": "code",
   "execution_count": 114,
   "id": "3174bac5",
   "metadata": {
    "hidden": true
   },
   "outputs": [
    {
     "name": "stdout",
     "output_type": "stream",
     "text": [
      "datetime64[ns]\n"
     ]
    },
    {
     "data": {
      "text/plain": [
       "0   1979-01-01\n",
       "1   1979-01-02\n",
       "2   1979-01-03\n",
       "3   1979-01-04\n",
       "4   1979-01-05\n",
       "Name: datetime, dtype: datetime64[ns]"
      ]
     },
     "execution_count": 114,
     "metadata": {},
     "output_type": "execute_result"
    }
   ],
   "source": [
    "# correct the formatting\n",
    "df['datetime'] = pd.to_datetime(df['date'], format='%Y%m%d')\n",
    "\n",
    "# check\n",
    "print(df['datetime'].dtype)\n",
    "df['datetime'].head()"
   ]
  },
  {
   "cell_type": "code",
   "execution_count": 115,
   "id": "ba23cc71",
   "metadata": {
    "hidden": true
   },
   "outputs": [
    {
     "data": {
      "text/plain": [
       "Index(['cloud_cover', 'sunshine', 'global_radiation', 'max_temp', 'mean_temp',\n",
       "       'min_temp', 'precipitation', 'pressure', 'snow_depth', 'date'],\n",
       "      dtype='object')"
      ]
     },
     "execution_count": 115,
     "metadata": {},
     "output_type": "execute_result"
    }
   ],
   "source": [
    "# drop 'date' column and convert 'datetime' to 'date'\n",
    "df = df.drop(columns = ['date'])\n",
    "df = df.rename(columns = {'datetime': 'date'})\n",
    "\n",
    "# check\n",
    "df.columns"
   ]
  },
  {
   "cell_type": "markdown",
   "id": "e650507d",
   "metadata": {
    "hidden": true
   },
   "source": [
    "## 1.2 Set the date column as the index."
   ]
  },
  {
   "cell_type": "code",
   "execution_count": 116,
   "id": "65cd25cb",
   "metadata": {
    "hidden": true
   },
   "outputs": [
    {
     "name": "stdout",
     "output_type": "stream",
     "text": [
      "<class 'pandas.core.frame.DataFrame'>\n",
      "DatetimeIndex: 15341 entries, 1979-01-01 to 2020-12-31\n",
      "Data columns (total 9 columns):\n",
      " #   Column            Non-Null Count  Dtype  \n",
      "---  ------            --------------  -----  \n",
      " 0   cloud_cover       14938 non-null  float64\n",
      " 1   sunshine          14957 non-null  float64\n",
      " 2   global_radiation  14939 non-null  float64\n",
      " 3   max_temp          14951 non-null  float64\n",
      " 4   mean_temp         14922 non-null  float64\n",
      " 5   min_temp          14955 non-null  float64\n",
      " 6   precipitation     14951 non-null  float64\n",
      " 7   pressure          14953 non-null  float64\n",
      " 8   snow_depth        13589 non-null  float64\n",
      "dtypes: float64(9)\n",
      "memory usage: 1.2 MB\n"
     ]
    },
    {
     "data": {
      "text/html": [
       "<div>\n",
       "<style scoped>\n",
       "    .dataframe tbody tr th:only-of-type {\n",
       "        vertical-align: middle;\n",
       "    }\n",
       "\n",
       "    .dataframe tbody tr th {\n",
       "        vertical-align: top;\n",
       "    }\n",
       "\n",
       "    .dataframe thead th {\n",
       "        text-align: right;\n",
       "    }\n",
       "</style>\n",
       "<table border=\"1\" class=\"dataframe\">\n",
       "  <thead>\n",
       "    <tr style=\"text-align: right;\">\n",
       "      <th></th>\n",
       "      <th>cloud_cover</th>\n",
       "      <th>sunshine</th>\n",
       "      <th>global_radiation</th>\n",
       "      <th>max_temp</th>\n",
       "      <th>mean_temp</th>\n",
       "      <th>min_temp</th>\n",
       "      <th>precipitation</th>\n",
       "      <th>pressure</th>\n",
       "      <th>snow_depth</th>\n",
       "    </tr>\n",
       "    <tr>\n",
       "      <th>date</th>\n",
       "      <th></th>\n",
       "      <th></th>\n",
       "      <th></th>\n",
       "      <th></th>\n",
       "      <th></th>\n",
       "      <th></th>\n",
       "      <th></th>\n",
       "      <th></th>\n",
       "      <th></th>\n",
       "    </tr>\n",
       "  </thead>\n",
       "  <tbody>\n",
       "    <tr>\n",
       "      <th>1979-01-01</th>\n",
       "      <td>2.0</td>\n",
       "      <td>7.0</td>\n",
       "      <td>52.0</td>\n",
       "      <td>2.3</td>\n",
       "      <td>-4.1</td>\n",
       "      <td>-7.5</td>\n",
       "      <td>0.4</td>\n",
       "      <td>101900.0</td>\n",
       "      <td>9.0</td>\n",
       "    </tr>\n",
       "    <tr>\n",
       "      <th>1979-01-02</th>\n",
       "      <td>6.0</td>\n",
       "      <td>1.7</td>\n",
       "      <td>27.0</td>\n",
       "      <td>1.6</td>\n",
       "      <td>-2.6</td>\n",
       "      <td>-7.5</td>\n",
       "      <td>0.0</td>\n",
       "      <td>102530.0</td>\n",
       "      <td>8.0</td>\n",
       "    </tr>\n",
       "    <tr>\n",
       "      <th>1979-01-03</th>\n",
       "      <td>5.0</td>\n",
       "      <td>0.0</td>\n",
       "      <td>13.0</td>\n",
       "      <td>1.3</td>\n",
       "      <td>-2.8</td>\n",
       "      <td>-7.2</td>\n",
       "      <td>0.0</td>\n",
       "      <td>102050.0</td>\n",
       "      <td>4.0</td>\n",
       "    </tr>\n",
       "    <tr>\n",
       "      <th>1979-01-04</th>\n",
       "      <td>8.0</td>\n",
       "      <td>0.0</td>\n",
       "      <td>13.0</td>\n",
       "      <td>-0.3</td>\n",
       "      <td>-2.6</td>\n",
       "      <td>-6.5</td>\n",
       "      <td>0.0</td>\n",
       "      <td>100840.0</td>\n",
       "      <td>2.0</td>\n",
       "    </tr>\n",
       "    <tr>\n",
       "      <th>1979-01-05</th>\n",
       "      <td>6.0</td>\n",
       "      <td>2.0</td>\n",
       "      <td>29.0</td>\n",
       "      <td>5.6</td>\n",
       "      <td>-0.8</td>\n",
       "      <td>-1.4</td>\n",
       "      <td>0.0</td>\n",
       "      <td>102250.0</td>\n",
       "      <td>1.0</td>\n",
       "    </tr>\n",
       "  </tbody>\n",
       "</table>\n",
       "</div>"
      ],
      "text/plain": [
       "            cloud_cover  sunshine  global_radiation  max_temp  mean_temp  \\\n",
       "date                                                                       \n",
       "1979-01-01          2.0       7.0              52.0       2.3       -4.1   \n",
       "1979-01-02          6.0       1.7              27.0       1.6       -2.6   \n",
       "1979-01-03          5.0       0.0              13.0       1.3       -2.8   \n",
       "1979-01-04          8.0       0.0              13.0      -0.3       -2.6   \n",
       "1979-01-05          6.0       2.0              29.0       5.6       -0.8   \n",
       "\n",
       "            min_temp  precipitation  pressure  snow_depth  \n",
       "date                                                       \n",
       "1979-01-01      -7.5            0.4  101900.0         9.0  \n",
       "1979-01-02      -7.5            0.0  102530.0         8.0  \n",
       "1979-01-03      -7.2            0.0  102050.0         4.0  \n",
       "1979-01-04      -6.5            0.0  100840.0         2.0  \n",
       "1979-01-05      -1.4            0.0  102250.0         1.0  "
      ]
     },
     "execution_count": 116,
     "metadata": {},
     "output_type": "execute_result"
    }
   ],
   "source": [
    "# set index on 'date' column\n",
    "df = df.set_index('date')\n",
    "\n",
    "# check\n",
    "df.info()\n",
    "df.head()"
   ]
  },
  {
   "cell_type": "markdown",
   "id": "6d3ea3ea",
   "metadata": {
    "hidden": true
   },
   "source": [
    "## 1.3 Filter out only the required data."
   ]
  },
  {
   "cell_type": "markdown",
   "id": "f51ba5e0",
   "metadata": {
    "hidden": true
   },
   "source": [
    "Keep only data from the year 2000 or later. Keep only the following features: precipitation, mean_temp, min_temp, max_temp, and snow_depth."
   ]
  },
  {
   "cell_type": "code",
   "execution_count": 117,
   "id": "c9a4433f",
   "metadata": {
    "hidden": true
   },
   "outputs": [
    {
     "data": {
      "text/plain": [
       "Index(['cloud_cover', 'sunshine', 'global_radiation', 'max_temp', 'mean_temp',\n",
       "       'min_temp', 'precipitation', 'pressure', 'snow_depth'],\n",
       "      dtype='object')"
      ]
     },
     "execution_count": 117,
     "metadata": {},
     "output_type": "execute_result"
    }
   ],
   "source": [
    "# check columns\n",
    "df.columns"
   ]
  },
  {
   "cell_type": "code",
   "execution_count": 118,
   "id": "695773a0",
   "metadata": {
    "hidden": true
   },
   "outputs": [
    {
     "name": "stdout",
     "output_type": "stream",
     "text": [
      "<class 'pandas.core.frame.DataFrame'>\n",
      "DatetimeIndex: 7671 entries, 2000-01-01 to 2020-12-31\n",
      "Data columns (total 5 columns):\n",
      " #   Column         Non-Null Count  Dtype  \n",
      "---  ------         --------------  -----  \n",
      " 0   precipitation  7281 non-null   float64\n",
      " 1   mean_temp      7252 non-null   float64\n",
      " 2   min_temp       7285 non-null   float64\n",
      " 3   max_temp       7281 non-null   float64\n",
      " 4   snow_depth     5919 non-null   float64\n",
      "dtypes: float64(5)\n",
      "memory usage: 359.6 KB\n"
     ]
    },
    {
     "data": {
      "text/html": [
       "<div>\n",
       "<style scoped>\n",
       "    .dataframe tbody tr th:only-of-type {\n",
       "        vertical-align: middle;\n",
       "    }\n",
       "\n",
       "    .dataframe tbody tr th {\n",
       "        vertical-align: top;\n",
       "    }\n",
       "\n",
       "    .dataframe thead th {\n",
       "        text-align: right;\n",
       "    }\n",
       "</style>\n",
       "<table border=\"1\" class=\"dataframe\">\n",
       "  <thead>\n",
       "    <tr style=\"text-align: right;\">\n",
       "      <th></th>\n",
       "      <th>precipitation</th>\n",
       "      <th>mean_temp</th>\n",
       "      <th>min_temp</th>\n",
       "      <th>max_temp</th>\n",
       "      <th>snow_depth</th>\n",
       "    </tr>\n",
       "    <tr>\n",
       "      <th>date</th>\n",
       "      <th></th>\n",
       "      <th></th>\n",
       "      <th></th>\n",
       "      <th></th>\n",
       "      <th></th>\n",
       "    </tr>\n",
       "  </thead>\n",
       "  <tbody>\n",
       "    <tr>\n",
       "      <th>2000-01-01</th>\n",
       "      <td>0.0</td>\n",
       "      <td>7.0</td>\n",
       "      <td>4.9</td>\n",
       "      <td>10.8</td>\n",
       "      <td>0.0</td>\n",
       "    </tr>\n",
       "    <tr>\n",
       "      <th>2000-01-02</th>\n",
       "      <td>0.2</td>\n",
       "      <td>7.9</td>\n",
       "      <td>5.0</td>\n",
       "      <td>11.5</td>\n",
       "      <td>0.0</td>\n",
       "    </tr>\n",
       "    <tr>\n",
       "      <th>2000-01-03</th>\n",
       "      <td>6.0</td>\n",
       "      <td>9.4</td>\n",
       "      <td>7.2</td>\n",
       "      <td>9.5</td>\n",
       "      <td>0.0</td>\n",
       "    </tr>\n",
       "    <tr>\n",
       "      <th>2000-01-04</th>\n",
       "      <td>0.2</td>\n",
       "      <td>7.0</td>\n",
       "      <td>4.4</td>\n",
       "      <td>11.0</td>\n",
       "      <td>0.0</td>\n",
       "    </tr>\n",
       "    <tr>\n",
       "      <th>2000-01-05</th>\n",
       "      <td>0.8</td>\n",
       "      <td>6.4</td>\n",
       "      <td>1.9</td>\n",
       "      <td>10.8</td>\n",
       "      <td>0.0</td>\n",
       "    </tr>\n",
       "  </tbody>\n",
       "</table>\n",
       "</div>"
      ],
      "text/plain": [
       "            precipitation  mean_temp  min_temp  max_temp  snow_depth\n",
       "date                                                                \n",
       "2000-01-01            0.0        7.0       4.9      10.8         0.0\n",
       "2000-01-02            0.2        7.9       5.0      11.5         0.0\n",
       "2000-01-03            6.0        9.4       7.2       9.5         0.0\n",
       "2000-01-04            0.2        7.0       4.4      11.0         0.0\n",
       "2000-01-05            0.8        6.4       1.9      10.8         0.0"
      ]
     },
     "execution_count": 118,
     "metadata": {},
     "output_type": "execute_result"
    }
   ],
   "source": [
    "# filter for year 2000 and later, and for necessary columns\n",
    "filtered_df = df.loc['2000':, ['precipitation',\n",
    "                              'mean_temp',\n",
    "                              'min_temp',\n",
    "                              'max_temp',\n",
    "                              'snow_depth']]\n",
    "\n",
    "# check\n",
    "filtered_df.info()\n",
    "filtered_df.head()"
   ]
  },
  {
   "cell_type": "code",
   "execution_count": 119,
   "id": "0d59c95b",
   "metadata": {
    "hidden": true
   },
   "outputs": [
    {
     "data": {
      "text/plain": [
       "Timestamp('2000-01-01 00:00:00')"
      ]
     },
     "execution_count": 119,
     "metadata": {},
     "output_type": "execute_result"
    }
   ],
   "source": [
    "# check filter by checking min index\n",
    "filtered_df.index.min()"
   ]
  },
  {
   "cell_type": "code",
   "execution_count": 120,
   "id": "a56816e5",
   "metadata": {
    "hidden": true
   },
   "outputs": [],
   "source": [
    "# rename filtered_df to df for easier code\n",
    "df = filtered_df.copy()"
   ]
  },
  {
   "cell_type": "markdown",
   "id": "88175a8d",
   "metadata": {
    "hidden": true
   },
   "source": [
    "## 1.4 Impute any missing values."
   ]
  },
  {
   "cell_type": "code",
   "execution_count": 121,
   "id": "3cd33875",
   "metadata": {
    "hidden": true
   },
   "outputs": [
    {
     "data": {
      "text/plain": [
       "precipitation     390\n",
       "mean_temp         419\n",
       "min_temp          386\n",
       "max_temp          390\n",
       "snow_depth       1752\n",
       "dtype: int64"
      ]
     },
     "execution_count": 121,
     "metadata": {},
     "output_type": "execute_result"
    }
   ],
   "source": [
    "# check missing values\n",
    "df.isna().sum()"
   ]
  },
  {
   "cell_type": "markdown",
   "id": "2a43ca23",
   "metadata": {
    "hidden": true
   },
   "source": [
    "For the temperature features, interpolation makes sense. For precipitation and snow depth, though, it does not. Instead we will impute 0 as a stand-in for the missing data in those columns."
   ]
  },
  {
   "cell_type": "code",
   "execution_count": 122,
   "id": "efb7c2e3",
   "metadata": {
    "hidden": true
   },
   "outputs": [
    {
     "data": {
      "text/plain": [
       "precipitation    0\n",
       "mean_temp        0\n",
       "min_temp         0\n",
       "max_temp         0\n",
       "snow_depth       0\n",
       "dtype: int64"
      ]
     },
     "execution_count": 122,
     "metadata": {},
     "output_type": "execute_result"
    }
   ],
   "source": [
    "# temperature features: interpolate\n",
    "df['min_temp'] = df['min_temp'].interpolate()\n",
    "df['mean_temp'] = df['mean_temp'].interpolate()\n",
    "df['max_temp'] = df['max_temp'].interpolate()\n",
    "\n",
    "# precipitation and snow depth: impute 0\n",
    "df['precipitation'] = df['precipitation'].fillna(0)\n",
    "df['snow_depth'] = df['snow_depth'].fillna(0)\n",
    "\n",
    "# check\n",
    "df.isna().sum()"
   ]
  },
  {
   "cell_type": "markdown",
   "id": "51c2a605",
   "metadata": {},
   "source": [
    "# 2 Part 2: Answer questions with visualizations"
   ]
  },
  {
   "cell_type": "markdown",
   "id": "b7745a37",
   "metadata": {},
   "source": [
    "## 2.1 Question 1: What month had the most precipitation between 2000 through 2010?"
   ]
  },
  {
   "cell_type": "markdown",
   "id": "e6d38260",
   "metadata": {},
   "source": [
    "Steps:\n",
    "1. Resample the data as Monthly frequency.\n",
    "2. Find the date and corresponding value for the max precipitation.\n",
    "3. Plot the feature and time period that corresponds to the question.\n",
    "    - Add a vertical line at the date of max precipitation with a label that says the date (using date format: \"April 2000\") and the max precipitation value. Make sure to add a legend so that the label is visible.\n",
    "    \n",
    "NOTE: Pandas' .plot method currently has a bug with 4-digit year axis labels. The tick labels misbehave when being formatted with matplotlib and will produce a mostly-blank axis with 1 year labeled. To get around this issue, first, create your fig and ax using plt.subplots(), then use pandas .plot method to plot this figure by adding the argument \"ax=ax\" to .plot().\n",
    "\n",
    "```\n",
    "fig, ax = plt.subplots(figsize=(12,3))\n",
    "df.plot(ax=ax)\n",
    "```\n"
   ]
  },
  {
   "cell_type": "markdown",
   "id": "95cc24ac",
   "metadata": {},
   "source": [
    "### 2.1.1 Resample the data as Monthly frequency"
   ]
  },
  {
   "cell_type": "markdown",
   "id": "473c0990",
   "metadata": {},
   "source": [
    "The instructions don't stipulate an aggregate function for resampling, so I will use the mean. I will set the dates for each measurement as the first of the month."
   ]
  },
  {
   "cell_type": "code",
   "execution_count": 123,
   "id": "8fec61c0",
   "metadata": {},
   "outputs": [
    {
     "data": {
      "text/plain": [
       "date\n",
       "2000-01-01    0.0\n",
       "2000-01-02    0.2\n",
       "2000-01-03    6.0\n",
       "2000-01-04    0.2\n",
       "2000-01-05    0.8\n",
       "Name: precipitation, dtype: float64"
      ]
     },
     "execution_count": 123,
     "metadata": {},
     "output_type": "execute_result"
    }
   ],
   "source": [
    "# create series for precipitation only\n",
    "ts = df['precipitation'].copy()\n",
    "\n",
    "# check\n",
    "ts.head()"
   ]
  },
  {
   "cell_type": "code",
   "execution_count": 124,
   "id": "7a337488",
   "metadata": {},
   "outputs": [
    {
     "name": "stdout",
     "output_type": "stream",
     "text": [
      "2000-01-01 00:00:00\n",
      "2010-12-31 00:00:00\n"
     ]
    }
   ],
   "source": [
    "# limit series to years 2000-2010\n",
    "ts = ts.loc['2000':'2010']\n",
    "\n",
    "# check\n",
    "print(ts.index.min())\n",
    "print(ts.index.max())"
   ]
  },
  {
   "cell_type": "code",
   "execution_count": 125,
   "id": "063299c5",
   "metadata": {},
   "outputs": [
    {
     "data": {
      "text/plain": [
       "date\n",
       "2000-01-01    0.0\n",
       "2000-02-01    9.8\n",
       "2000-03-01    0.2\n",
       "2000-04-01    0.6\n",
       "2000-05-01    0.0\n",
       "Freq: MS, Name: precipitation, dtype: float64"
      ]
     },
     "execution_count": 125,
     "metadata": {},
     "output_type": "execute_result"
    }
   ],
   "source": [
    "# check beginning of month numbers\n",
    "ts_beg_month = ts.asfreq(\"MS\")\n",
    "ts_beg_month.head()"
   ]
  },
  {
   "cell_type": "code",
   "execution_count": 126,
   "id": "c270830c",
   "metadata": {},
   "outputs": [
    {
     "data": {
      "text/plain": [
       "date\n",
       "2000-01-01    0.461290\n",
       "2000-02-01    2.144828\n",
       "2000-03-01    0.432258\n",
       "2000-04-01    2.393333\n",
       "2000-05-01    2.206452\n",
       "Freq: MS, Name: precipitation, dtype: float64"
      ]
     },
     "execution_count": 126,
     "metadata": {},
     "output_type": "execute_result"
    }
   ],
   "source": [
    "# resample with monthly frequency; take mean of month\n",
    "ts = ts.resample(\"MS\").mean()\n",
    "\n",
    "# check\n",
    "ts.head()"
   ]
  },
  {
   "cell_type": "markdown",
   "id": "8e73cb7e",
   "metadata": {},
   "source": [
    "### 2.1.2 Find the date and corresponding value for the max precipitation."
   ]
  },
  {
   "cell_type": "code",
   "execution_count": 127,
   "id": "c20b4975",
   "metadata": {},
   "outputs": [
    {
     "data": {
      "text/plain": [
       "Timestamp('2009-11-01 00:00:00', freq='MS')"
      ]
     },
     "execution_count": 127,
     "metadata": {},
     "output_type": "execute_result"
    }
   ],
   "source": [
    "# find date\n",
    "max_precip_date = ts.idxmax()\n",
    "\n",
    "# check\n",
    "max_precip_date"
   ]
  },
  {
   "cell_type": "code",
   "execution_count": 128,
   "id": "aa2c1ca6",
   "metadata": {},
   "outputs": [
    {
     "data": {
      "text/plain": [
       "4.613333333333333"
      ]
     },
     "execution_count": 128,
     "metadata": {},
     "output_type": "execute_result"
    }
   ],
   "source": [
    "# find value\n",
    "ts.loc[max_precip_date]"
   ]
  },
  {
   "cell_type": "markdown",
   "id": "cf45e49e",
   "metadata": {},
   "source": [
    "### 2.1.3 Plot the feature and time period that corresponds to the question."
   ]
  },
  {
   "cell_type": "markdown",
   "id": "ad641982",
   "metadata": {},
   "source": [
    "Add a vertical line at the date with max precipitation with a label that says the date (using date format: \"April 2000\") and the max precipitation value. Make sure to add a legend so that the label is visible."
   ]
  },
  {
   "cell_type": "markdown",
   "id": "126604e2",
   "metadata": {},
   "source": [
    "Feature: precipitation\n",
    "\n",
    "Time period: 2000-2010"
   ]
  },
  {
   "cell_type": "code",
   "execution_count": 136,
   "id": "ca8561aa",
   "metadata": {},
   "outputs": [
    {
     "data": {
      "image/png": "[encoded data removed]",
      "text/plain": [
       "<Figure size 1200x300 with 1 Axes>"
      ]
     },
     "metadata": {},
     "output_type": "display_data"
    }
   ],
   "source": [
    "# set subplots figsize\n",
    "fig, ax = plt.subplots(figsize = (12, 3))\n",
    "\n",
    "# cusomize major x-axis ticks\n",
    "# one tick every year\n",
    "major_ticks_loc = mdates.YearLocator(1)\n",
    "# 4-digit-year labels\n",
    "major_ticks_format = mdates.DateFormatter('%Y')\n",
    "# set locator and formatter\n",
    "ax.xaxis.set_major_locator(major_ticks_loc)\n",
    "ax.xaxis.set_major_formatter(major_ticks_format)\n",
    "\n",
    "# set title and y-axis label\n",
    "ax.set(title = 'Average Monthly Precipitation, 2000-2010',\n",
    "      ylabel = 'Inches',\n",
    "      xlabel = 'Month')\n",
    "\n",
    "# plot\n",
    "ts.plot(ax = ax);"
   ]
  },
  {
   "cell_type": "code",
   "execution_count": null,
   "id": "6dfdd002",
   "metadata": {},
   "outputs": [],
   "source": []
  }
 ],
 "metadata": {
  "kernelspec": {
   "display_name": "Python (dojo-env)",
   "language": "python",
   "name": "dojo-env"
  },
  "language_info": {
   "codemirror_mode": {
    "name": "ipython",
    "version": 3
   },
   "file_extension": ".py",
   "mimetype": "text/x-python",
   "name": "python",
   "nbconvert_exporter": "python",
   "pygments_lexer": "ipython3",
   "version": "3.9.15"
  },
  "toc": {
   "base_numbering": 1,
   "nav_menu": {},
   "number_sections": false,
   "sideBar": true,
   "skip_h1_title": false,
   "title_cell": "Table of Contents",
   "title_sidebar": "Contents",
   "toc_cell": false,
   "toc_position": {},
   "toc_section_display": true,
   "toc_window_display": false
  }
 },
 "nbformat": 4,
 "nbformat_minor": 5
}
