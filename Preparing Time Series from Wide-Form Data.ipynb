{
 "cells": [
  {
   "cell_type": "markdown",
   "id": "21f24d70",
   "metadata": {},
   "source": [
    "# Preparing Time Series from Wide-Form Data"
   ]
  },
  {
   "cell_type": "markdown",
   "id": "9f0b86f4",
   "metadata": {},
   "source": [
    "## Data"
   ]
  },
  {
   "cell_type": "markdown",
   "id": "f1de3b18",
   "metadata": {},
   "source": [
    "Use the Home Value data set for the following:\n",
    "  - Data Type = \"ZHVI All Homes (SFR+Condo/Coop) - Time Series - Smoothed - Seasonally Adjusted\"\n",
    "  - Geography = \"City\"\n",
    "  \n",
    "It is available in  Zillow's publicly available Zillow House Value Index (ZHVI): https://www.zillow.com/research/data/.\n",
    "\n",
    "Direct URL (for Pandas):\n",
    "  - https://docs.google.com/spreadsheets/d/e/2PACX-1vQN3Ksa9szQuO4G1-msXWAp17KtVHQCBnuEieu_auu1wSiBf3-krHusIx5VBMkihxj-KZLBosDIGEyR/pub?output=csv"
   ]
  },
  {
   "cell_type": "markdown",
   "id": "ea0a679c",
   "metadata": {},
   "source": [
    "## Task"
   ]
  },
  {
   "cell_type": "markdown",
   "id": "fb9f2e34",
   "metadata": {},
   "source": [
    "**Steps:**\n",
    "\n",
    "Part 1: Prepare the dataset for time series analysis\n",
    "  - Load in the Zillow Home Value Index dataframe.\n",
    "  - Filter the 4 largest cities into a new dataframe.\n",
    "  - Melt the data to long-form and prepare it for time series analysis. Convert the melted dates into datetime datatype and make the datetime column the index.\n",
    "  - Resample the dataframe as monthly frequency, grouped by city.\n",
    "  \n",
    "Part 2: Plot and answer questions\n",
    "  - Plot the home values for all 4 cities. Add a title and axis labels, and reformat the y-axis ticks to use thousands of dollars with a \"K\" at the end.\n",
    "  - Answer the following 2 questions using pandas:\n",
    "      - 1. Which city had the highest typical home value at the end of 2008? Which had the least?\n",
    "      - 2. How much did the home values change from November 2008 to December 2008 (in dollars)?"
   ]
  },
  {
   "cell_type": "markdown",
   "id": "407d31c3",
   "metadata": {},
   "source": [
    "# 0 Preliminary Steps"
   ]
  },
  {
   "cell_type": "code",
   "execution_count": 1,
   "id": "a98c45be",
   "metadata": {},
   "outputs": [],
   "source": [
    "# imports\n",
    "import pandas as pd\n",
    "import matplotlib.ticker as mticks"
   ]
  },
  {
   "cell_type": "markdown",
   "id": "59038039",
   "metadata": {},
   "source": [
    "# 1 Part 1: Prepare the dataset for time series analysis"
   ]
  },
  {
   "cell_type": "markdown",
   "id": "ddf85766",
   "metadata": {
    "heading_collapsed": true
   },
   "source": [
    "## 1.1 Load in the Zillow Home Value Index dataframe"
   ]
  },
  {
   "cell_type": "code",
   "execution_count": 2,
   "id": "425cd73f",
   "metadata": {
    "hidden": true
   },
   "outputs": [
    {
     "name": "stdout",
     "output_type": "stream",
     "text": [
      "<class 'pandas.core.frame.DataFrame'>\n",
      "RangeIndex: 22467 entries, 0 to 22466\n",
      "Columns: 281 entries, RegionID to 2022-09-30\n",
      "dtypes: float64(273), int64(2), object(6)\n",
      "memory usage: 48.2+ MB\n"
     ]
    },
    {
     "data": {
      "text/html": [
       "<div>\n",
       "<style scoped>\n",
       "    .dataframe tbody tr th:only-of-type {\n",
       "        vertical-align: middle;\n",
       "    }\n",
       "\n",
       "    .dataframe tbody tr th {\n",
       "        vertical-align: top;\n",
       "    }\n",
       "\n",
       "    .dataframe thead th {\n",
       "        text-align: right;\n",
       "    }\n",
       "</style>\n",
       "<table border=\"1\" class=\"dataframe\">\n",
       "  <thead>\n",
       "    <tr style=\"text-align: right;\">\n",
       "      <th></th>\n",
       "      <th>RegionID</th>\n",
       "      <th>SizeRank</th>\n",
       "      <th>RegionName</th>\n",
       "      <th>RegionType</th>\n",
       "      <th>StateName</th>\n",
       "      <th>State</th>\n",
       "      <th>Metro</th>\n",
       "      <th>CountyName</th>\n",
       "      <th>2000-01-31</th>\n",
       "      <th>2000-02-29</th>\n",
       "      <th>...</th>\n",
       "      <th>2021-12-31</th>\n",
       "      <th>2022-01-31</th>\n",
       "      <th>2022-02-28</th>\n",
       "      <th>2022-03-31</th>\n",
       "      <th>2022-04-30</th>\n",
       "      <th>2022-05-31</th>\n",
       "      <th>2022-06-30</th>\n",
       "      <th>2022-07-31</th>\n",
       "      <th>2022-08-31</th>\n",
       "      <th>2022-09-30</th>\n",
       "    </tr>\n",
       "  </thead>\n",
       "  <tbody>\n",
       "    <tr>\n",
       "      <th>0</th>\n",
       "      <td>6181</td>\n",
       "      <td>0</td>\n",
       "      <td>New York</td>\n",
       "      <td>city</td>\n",
       "      <td>NY</td>\n",
       "      <td>NY</td>\n",
       "      <td>New York-Newark-Jersey City, NY-NJ-PA</td>\n",
       "      <td>Queens County</td>\n",
       "      <td>253690.0</td>\n",
       "      <td>255517.0</td>\n",
       "      <td>...</td>\n",
       "      <td>741586.0</td>\n",
       "      <td>745686.0</td>\n",
       "      <td>750578.0</td>\n",
       "      <td>756734.0</td>\n",
       "      <td>762321.0</td>\n",
       "      <td>768797.0</td>\n",
       "      <td>773944.0</td>\n",
       "      <td>777692.0</td>\n",
       "      <td>779960.0</td>\n",
       "      <td>781622.0</td>\n",
       "    </tr>\n",
       "    <tr>\n",
       "      <th>1</th>\n",
       "      <td>12447</td>\n",
       "      <td>1</td>\n",
       "      <td>Los Angeles</td>\n",
       "      <td>city</td>\n",
       "      <td>CA</td>\n",
       "      <td>CA</td>\n",
       "      <td>Los Angeles-Long Beach-Anaheim, CA</td>\n",
       "      <td>Los Angeles County</td>\n",
       "      <td>234181.0</td>\n",
       "      <td>234401.0</td>\n",
       "      <td>...</td>\n",
       "      <td>924019.0</td>\n",
       "      <td>928991.0</td>\n",
       "      <td>937936.0</td>\n",
       "      <td>953874.0</td>\n",
       "      <td>973168.0</td>\n",
       "      <td>990391.0</td>\n",
       "      <td>992337.0</td>\n",
       "      <td>992630.0</td>\n",
       "      <td>978196.0</td>\n",
       "      <td>966595.0</td>\n",
       "    </tr>\n",
       "    <tr>\n",
       "      <th>2</th>\n",
       "      <td>39051</td>\n",
       "      <td>2</td>\n",
       "      <td>Houston</td>\n",
       "      <td>city</td>\n",
       "      <td>TX</td>\n",
       "      <td>TX</td>\n",
       "      <td>Houston-The Woodlands-Sugar Land, TX</td>\n",
       "      <td>Harris County</td>\n",
       "      <td>109068.0</td>\n",
       "      <td>109079.0</td>\n",
       "      <td>...</td>\n",
       "      <td>245783.0</td>\n",
       "      <td>248718.0</td>\n",
       "      <td>252080.0</td>\n",
       "      <td>256435.0</td>\n",
       "      <td>261101.0</td>\n",
       "      <td>265558.0</td>\n",
       "      <td>268901.0</td>\n",
       "      <td>271059.0</td>\n",
       "      <td>272400.0</td>\n",
       "      <td>272639.0</td>\n",
       "    </tr>\n",
       "    <tr>\n",
       "      <th>3</th>\n",
       "      <td>17426</td>\n",
       "      <td>3</td>\n",
       "      <td>Chicago</td>\n",
       "      <td>city</td>\n",
       "      <td>IL</td>\n",
       "      <td>IL</td>\n",
       "      <td>Chicago-Naperville-Elgin, IL-IN-WI</td>\n",
       "      <td>Cook County</td>\n",
       "      <td>166139.0</td>\n",
       "      <td>166536.0</td>\n",
       "      <td>...</td>\n",
       "      <td>302821.0</td>\n",
       "      <td>305104.0</td>\n",
       "      <td>306404.0</td>\n",
       "      <td>308303.0</td>\n",
       "      <td>309649.0</td>\n",
       "      <td>312487.0</td>\n",
       "      <td>314663.0</td>\n",
       "      <td>315910.0</td>\n",
       "      <td>315587.0</td>\n",
       "      <td>315429.0</td>\n",
       "    </tr>\n",
       "    <tr>\n",
       "      <th>4</th>\n",
       "      <td>6915</td>\n",
       "      <td>4</td>\n",
       "      <td>San Antonio</td>\n",
       "      <td>city</td>\n",
       "      <td>TX</td>\n",
       "      <td>TX</td>\n",
       "      <td>San Antonio-New Braunfels, TX</td>\n",
       "      <td>Bexar County</td>\n",
       "      <td>114794.0</td>\n",
       "      <td>114975.0</td>\n",
       "      <td>...</td>\n",
       "      <td>269323.0</td>\n",
       "      <td>274032.0</td>\n",
       "      <td>278464.0</td>\n",
       "      <td>284127.0</td>\n",
       "      <td>289739.0</td>\n",
       "      <td>294776.0</td>\n",
       "      <td>297727.0</td>\n",
       "      <td>298796.0</td>\n",
       "      <td>299124.0</td>\n",
       "      <td>298951.0</td>\n",
       "    </tr>\n",
       "  </tbody>\n",
       "</table>\n",
       "<p>5 rows × 281 columns</p>\n",
       "</div>"
      ],
      "text/plain": [
       "   RegionID  SizeRank   RegionName RegionType StateName State  \\\n",
       "0      6181         0     New York       city        NY    NY   \n",
       "1     12447         1  Los Angeles       city        CA    CA   \n",
       "2     39051         2      Houston       city        TX    TX   \n",
       "3     17426         3      Chicago       city        IL    IL   \n",
       "4      6915         4  San Antonio       city        TX    TX   \n",
       "\n",
       "                                   Metro          CountyName  2000-01-31  \\\n",
       "0  New York-Newark-Jersey City, NY-NJ-PA       Queens County    253690.0   \n",
       "1     Los Angeles-Long Beach-Anaheim, CA  Los Angeles County    234181.0   \n",
       "2   Houston-The Woodlands-Sugar Land, TX       Harris County    109068.0   \n",
       "3     Chicago-Naperville-Elgin, IL-IN-WI         Cook County    166139.0   \n",
       "4          San Antonio-New Braunfels, TX        Bexar County    114794.0   \n",
       "\n",
       "   2000-02-29  ...  2021-12-31  2022-01-31  2022-02-28  2022-03-31  \\\n",
       "0    255517.0  ...    741586.0    745686.0    750578.0    756734.0   \n",
       "1    234401.0  ...    924019.0    928991.0    937936.0    953874.0   \n",
       "2    109079.0  ...    245783.0    248718.0    252080.0    256435.0   \n",
       "3    166536.0  ...    302821.0    305104.0    306404.0    308303.0   \n",
       "4    114975.0  ...    269323.0    274032.0    278464.0    284127.0   \n",
       "\n",
       "   2022-04-30  2022-05-31  2022-06-30  2022-07-31  2022-08-31  2022-09-30  \n",
       "0    762321.0    768797.0    773944.0    777692.0    779960.0    781622.0  \n",
       "1    973168.0    990391.0    992337.0    992630.0    978196.0    966595.0  \n",
       "2    261101.0    265558.0    268901.0    271059.0    272400.0    272639.0  \n",
       "3    309649.0    312487.0    314663.0    315910.0    315587.0    315429.0  \n",
       "4    289739.0    294776.0    297727.0    298796.0    299124.0    298951.0  \n",
       "\n",
       "[5 rows x 281 columns]"
      ]
     },
     "execution_count": 2,
     "metadata": {},
     "output_type": "execute_result"
    }
   ],
   "source": [
    "# load data\n",
    "df = pd.read_csv('https://docs.google.com/spreadsheets/d/e/2PACX-1vQN3Ksa9szQuO4G1-msXWAp17KtVHQCBnuEieu_auu1wSiBf3-krHusIx5VBMkihxj-KZLBosDIGEyR/pub?output=csv')\n",
    "\n",
    "# check\n",
    "df.info()\n",
    "df.head()"
   ]
  },
  {
   "cell_type": "markdown",
   "id": "cef776ed",
   "metadata": {
    "heading_collapsed": true
   },
   "source": [
    "## 1.2  Filter the 4 largest cities into a new dataframe"
   ]
  },
  {
   "cell_type": "markdown",
   "id": "b1bcb5be",
   "metadata": {
    "hidden": true
   },
   "source": [
    "The 'SizeRank' column has already ranked the cities by size where the larger the city, the smaller the rank value."
   ]
  },
  {
   "cell_type": "code",
   "execution_count": 3,
   "id": "1f0f3907",
   "metadata": {
    "hidden": true
   },
   "outputs": [
    {
     "name": "stdout",
     "output_type": "stream",
     "text": [
      "<class 'pandas.core.frame.DataFrame'>\n",
      "Int64Index: 4 entries, 0 to 3\n",
      "Columns: 281 entries, RegionID to 2022-09-30\n",
      "dtypes: float64(273), int64(2), object(6)\n",
      "memory usage: 8.8+ KB\n"
     ]
    },
    {
     "data": {
      "text/html": [
       "<div>\n",
       "<style scoped>\n",
       "    .dataframe tbody tr th:only-of-type {\n",
       "        vertical-align: middle;\n",
       "    }\n",
       "\n",
       "    .dataframe tbody tr th {\n",
       "        vertical-align: top;\n",
       "    }\n",
       "\n",
       "    .dataframe thead th {\n",
       "        text-align: right;\n",
       "    }\n",
       "</style>\n",
       "<table border=\"1\" class=\"dataframe\">\n",
       "  <thead>\n",
       "    <tr style=\"text-align: right;\">\n",
       "      <th></th>\n",
       "      <th>RegionID</th>\n",
       "      <th>SizeRank</th>\n",
       "      <th>RegionName</th>\n",
       "      <th>RegionType</th>\n",
       "      <th>StateName</th>\n",
       "      <th>State</th>\n",
       "      <th>Metro</th>\n",
       "      <th>CountyName</th>\n",
       "      <th>2000-01-31</th>\n",
       "      <th>2000-02-29</th>\n",
       "      <th>...</th>\n",
       "      <th>2021-12-31</th>\n",
       "      <th>2022-01-31</th>\n",
       "      <th>2022-02-28</th>\n",
       "      <th>2022-03-31</th>\n",
       "      <th>2022-04-30</th>\n",
       "      <th>2022-05-31</th>\n",
       "      <th>2022-06-30</th>\n",
       "      <th>2022-07-31</th>\n",
       "      <th>2022-08-31</th>\n",
       "      <th>2022-09-30</th>\n",
       "    </tr>\n",
       "  </thead>\n",
       "  <tbody>\n",
       "    <tr>\n",
       "      <th>0</th>\n",
       "      <td>6181</td>\n",
       "      <td>0</td>\n",
       "      <td>New York</td>\n",
       "      <td>city</td>\n",
       "      <td>NY</td>\n",
       "      <td>NY</td>\n",
       "      <td>New York-Newark-Jersey City, NY-NJ-PA</td>\n",
       "      <td>Queens County</td>\n",
       "      <td>253690.0</td>\n",
       "      <td>255517.0</td>\n",
       "      <td>...</td>\n",
       "      <td>741586.0</td>\n",
       "      <td>745686.0</td>\n",
       "      <td>750578.0</td>\n",
       "      <td>756734.0</td>\n",
       "      <td>762321.0</td>\n",
       "      <td>768797.0</td>\n",
       "      <td>773944.0</td>\n",
       "      <td>777692.0</td>\n",
       "      <td>779960.0</td>\n",
       "      <td>781622.0</td>\n",
       "    </tr>\n",
       "    <tr>\n",
       "      <th>1</th>\n",
       "      <td>12447</td>\n",
       "      <td>1</td>\n",
       "      <td>Los Angeles</td>\n",
       "      <td>city</td>\n",
       "      <td>CA</td>\n",
       "      <td>CA</td>\n",
       "      <td>Los Angeles-Long Beach-Anaheim, CA</td>\n",
       "      <td>Los Angeles County</td>\n",
       "      <td>234181.0</td>\n",
       "      <td>234401.0</td>\n",
       "      <td>...</td>\n",
       "      <td>924019.0</td>\n",
       "      <td>928991.0</td>\n",
       "      <td>937936.0</td>\n",
       "      <td>953874.0</td>\n",
       "      <td>973168.0</td>\n",
       "      <td>990391.0</td>\n",
       "      <td>992337.0</td>\n",
       "      <td>992630.0</td>\n",
       "      <td>978196.0</td>\n",
       "      <td>966595.0</td>\n",
       "    </tr>\n",
       "    <tr>\n",
       "      <th>2</th>\n",
       "      <td>39051</td>\n",
       "      <td>2</td>\n",
       "      <td>Houston</td>\n",
       "      <td>city</td>\n",
       "      <td>TX</td>\n",
       "      <td>TX</td>\n",
       "      <td>Houston-The Woodlands-Sugar Land, TX</td>\n",
       "      <td>Harris County</td>\n",
       "      <td>109068.0</td>\n",
       "      <td>109079.0</td>\n",
       "      <td>...</td>\n",
       "      <td>245783.0</td>\n",
       "      <td>248718.0</td>\n",
       "      <td>252080.0</td>\n",
       "      <td>256435.0</td>\n",
       "      <td>261101.0</td>\n",
       "      <td>265558.0</td>\n",
       "      <td>268901.0</td>\n",
       "      <td>271059.0</td>\n",
       "      <td>272400.0</td>\n",
       "      <td>272639.0</td>\n",
       "    </tr>\n",
       "    <tr>\n",
       "      <th>3</th>\n",
       "      <td>17426</td>\n",
       "      <td>3</td>\n",
       "      <td>Chicago</td>\n",
       "      <td>city</td>\n",
       "      <td>IL</td>\n",
       "      <td>IL</td>\n",
       "      <td>Chicago-Naperville-Elgin, IL-IN-WI</td>\n",
       "      <td>Cook County</td>\n",
       "      <td>166139.0</td>\n",
       "      <td>166536.0</td>\n",
       "      <td>...</td>\n",
       "      <td>302821.0</td>\n",
       "      <td>305104.0</td>\n",
       "      <td>306404.0</td>\n",
       "      <td>308303.0</td>\n",
       "      <td>309649.0</td>\n",
       "      <td>312487.0</td>\n",
       "      <td>314663.0</td>\n",
       "      <td>315910.0</td>\n",
       "      <td>315587.0</td>\n",
       "      <td>315429.0</td>\n",
       "    </tr>\n",
       "  </tbody>\n",
       "</table>\n",
       "<p>4 rows × 281 columns</p>\n",
       "</div>"
      ],
      "text/plain": [
       "   RegionID  SizeRank   RegionName RegionType StateName State  \\\n",
       "0      6181         0     New York       city        NY    NY   \n",
       "1     12447         1  Los Angeles       city        CA    CA   \n",
       "2     39051         2      Houston       city        TX    TX   \n",
       "3     17426         3      Chicago       city        IL    IL   \n",
       "\n",
       "                                   Metro          CountyName  2000-01-31  \\\n",
       "0  New York-Newark-Jersey City, NY-NJ-PA       Queens County    253690.0   \n",
       "1     Los Angeles-Long Beach-Anaheim, CA  Los Angeles County    234181.0   \n",
       "2   Houston-The Woodlands-Sugar Land, TX       Harris County    109068.0   \n",
       "3     Chicago-Naperville-Elgin, IL-IN-WI         Cook County    166139.0   \n",
       "\n",
       "   2000-02-29  ...  2021-12-31  2022-01-31  2022-02-28  2022-03-31  \\\n",
       "0    255517.0  ...    741586.0    745686.0    750578.0    756734.0   \n",
       "1    234401.0  ...    924019.0    928991.0    937936.0    953874.0   \n",
       "2    109079.0  ...    245783.0    248718.0    252080.0    256435.0   \n",
       "3    166536.0  ...    302821.0    305104.0    306404.0    308303.0   \n",
       "\n",
       "   2022-04-30  2022-05-31  2022-06-30  2022-07-31  2022-08-31  2022-09-30  \n",
       "0    762321.0    768797.0    773944.0    777692.0    779960.0    781622.0  \n",
       "1    973168.0    990391.0    992337.0    992630.0    978196.0    966595.0  \n",
       "2    261101.0    265558.0    268901.0    271059.0    272400.0    272639.0  \n",
       "3    309649.0    312487.0    314663.0    315910.0    315587.0    315429.0  \n",
       "\n",
       "[4 rows x 281 columns]"
      ]
     },
     "execution_count": 3,
     "metadata": {},
     "output_type": "execute_result"
    }
   ],
   "source": [
    "df = df[df['SizeRank'] <= 3].copy()\n",
    "\n",
    "# check\n",
    "df.info()\n",
    "df.head()"
   ]
  },
  {
   "cell_type": "markdown",
   "id": "0655e75d",
   "metadata": {
    "heading_collapsed": true
   },
   "source": [
    "## 1.3 Melt the data to long-form and prepare it for time series analysis"
   ]
  },
  {
   "cell_type": "markdown",
   "id": "5b9d81a0",
   "metadata": {
    "hidden": true
   },
   "source": [
    "Convert the melted dates into datetime datatype and make the datetime column the index."
   ]
  },
  {
   "cell_type": "code",
   "execution_count": 4,
   "id": "8ec2d249",
   "metadata": {
    "hidden": true
   },
   "outputs": [
    {
     "data": {
      "text/plain": [
       "Index(['RegionID', 'SizeRank', 'RegionName', 'RegionType', 'StateName',\n",
       "       'State', 'Metro', 'CountyName', '2000-01-31', '2000-02-29',\n",
       "       ...\n",
       "       '2021-12-31', '2022-01-31', '2022-02-28', '2022-03-31', '2022-04-30',\n",
       "       '2022-05-31', '2022-06-30', '2022-07-31', '2022-08-31', '2022-09-30'],\n",
       "      dtype='object', length=281)"
      ]
     },
     "execution_count": 4,
     "metadata": {},
     "output_type": "execute_result"
    }
   ],
   "source": [
    "# check columns to see which to keep\n",
    "df.columns"
   ]
  },
  {
   "cell_type": "code",
   "execution_count": 5,
   "id": "e400035c",
   "metadata": {
    "hidden": true
   },
   "outputs": [
    {
     "name": "stdout",
     "output_type": "stream",
     "text": [
      "<class 'pandas.core.frame.DataFrame'>\n",
      "RangeIndex: 1092 entries, 0 to 1091\n",
      "Data columns (total 10 columns):\n",
      " #   Column      Non-Null Count  Dtype  \n",
      "---  ------      --------------  -----  \n",
      " 0   RegionID    1092 non-null   int64  \n",
      " 1   SizeRank    1092 non-null   int64  \n",
      " 2   RegionName  1092 non-null   object \n",
      " 3   RegionType  1092 non-null   object \n",
      " 4   StateName   1092 non-null   object \n",
      " 5   State       1092 non-null   object \n",
      " 6   Metro       1092 non-null   object \n",
      " 7   CountyName  1092 non-null   object \n",
      " 8   Date        1092 non-null   object \n",
      " 9   HomePrice   1087 non-null   float64\n",
      "dtypes: float64(1), int64(2), object(7)\n",
      "memory usage: 85.4+ KB\n"
     ]
    },
    {
     "data": {
      "text/html": [
       "<div>\n",
       "<style scoped>\n",
       "    .dataframe tbody tr th:only-of-type {\n",
       "        vertical-align: middle;\n",
       "    }\n",
       "\n",
       "    .dataframe tbody tr th {\n",
       "        vertical-align: top;\n",
       "    }\n",
       "\n",
       "    .dataframe thead th {\n",
       "        text-align: right;\n",
       "    }\n",
       "</style>\n",
       "<table border=\"1\" class=\"dataframe\">\n",
       "  <thead>\n",
       "    <tr style=\"text-align: right;\">\n",
       "      <th></th>\n",
       "      <th>RegionID</th>\n",
       "      <th>SizeRank</th>\n",
       "      <th>RegionName</th>\n",
       "      <th>RegionType</th>\n",
       "      <th>StateName</th>\n",
       "      <th>State</th>\n",
       "      <th>Metro</th>\n",
       "      <th>CountyName</th>\n",
       "      <th>Date</th>\n",
       "      <th>HomePrice</th>\n",
       "    </tr>\n",
       "  </thead>\n",
       "  <tbody>\n",
       "    <tr>\n",
       "      <th>0</th>\n",
       "      <td>6181</td>\n",
       "      <td>0</td>\n",
       "      <td>New York</td>\n",
       "      <td>city</td>\n",
       "      <td>NY</td>\n",
       "      <td>NY</td>\n",
       "      <td>New York-Newark-Jersey City, NY-NJ-PA</td>\n",
       "      <td>Queens County</td>\n",
       "      <td>2000-01-31</td>\n",
       "      <td>253690.0</td>\n",
       "    </tr>\n",
       "    <tr>\n",
       "      <th>1</th>\n",
       "      <td>12447</td>\n",
       "      <td>1</td>\n",
       "      <td>Los Angeles</td>\n",
       "      <td>city</td>\n",
       "      <td>CA</td>\n",
       "      <td>CA</td>\n",
       "      <td>Los Angeles-Long Beach-Anaheim, CA</td>\n",
       "      <td>Los Angeles County</td>\n",
       "      <td>2000-01-31</td>\n",
       "      <td>234181.0</td>\n",
       "    </tr>\n",
       "    <tr>\n",
       "      <th>2</th>\n",
       "      <td>39051</td>\n",
       "      <td>2</td>\n",
       "      <td>Houston</td>\n",
       "      <td>city</td>\n",
       "      <td>TX</td>\n",
       "      <td>TX</td>\n",
       "      <td>Houston-The Woodlands-Sugar Land, TX</td>\n",
       "      <td>Harris County</td>\n",
       "      <td>2000-01-31</td>\n",
       "      <td>109068.0</td>\n",
       "    </tr>\n",
       "    <tr>\n",
       "      <th>3</th>\n",
       "      <td>17426</td>\n",
       "      <td>3</td>\n",
       "      <td>Chicago</td>\n",
       "      <td>city</td>\n",
       "      <td>IL</td>\n",
       "      <td>IL</td>\n",
       "      <td>Chicago-Naperville-Elgin, IL-IN-WI</td>\n",
       "      <td>Cook County</td>\n",
       "      <td>2000-01-31</td>\n",
       "      <td>166139.0</td>\n",
       "    </tr>\n",
       "    <tr>\n",
       "      <th>4</th>\n",
       "      <td>6181</td>\n",
       "      <td>0</td>\n",
       "      <td>New York</td>\n",
       "      <td>city</td>\n",
       "      <td>NY</td>\n",
       "      <td>NY</td>\n",
       "      <td>New York-Newark-Jersey City, NY-NJ-PA</td>\n",
       "      <td>Queens County</td>\n",
       "      <td>2000-02-29</td>\n",
       "      <td>255517.0</td>\n",
       "    </tr>\n",
       "  </tbody>\n",
       "</table>\n",
       "</div>"
      ],
      "text/plain": [
       "   RegionID  SizeRank   RegionName RegionType StateName State  \\\n",
       "0      6181         0     New York       city        NY    NY   \n",
       "1     12447         1  Los Angeles       city        CA    CA   \n",
       "2     39051         2      Houston       city        TX    TX   \n",
       "3     17426         3      Chicago       city        IL    IL   \n",
       "4      6181         0     New York       city        NY    NY   \n",
       "\n",
       "                                   Metro          CountyName        Date  \\\n",
       "0  New York-Newark-Jersey City, NY-NJ-PA       Queens County  2000-01-31   \n",
       "1     Los Angeles-Long Beach-Anaheim, CA  Los Angeles County  2000-01-31   \n",
       "2   Houston-The Woodlands-Sugar Land, TX       Harris County  2000-01-31   \n",
       "3     Chicago-Naperville-Elgin, IL-IN-WI         Cook County  2000-01-31   \n",
       "4  New York-Newark-Jersey City, NY-NJ-PA       Queens County  2000-02-29   \n",
       "\n",
       "   HomePrice  \n",
       "0   253690.0  \n",
       "1   234181.0  \n",
       "2   109068.0  \n",
       "3   166139.0  \n",
       "4   255517.0  "
      ]
     },
     "execution_count": 5,
     "metadata": {},
     "output_type": "execute_result"
    }
   ],
   "source": [
    "# assign columns to keep to variable\n",
    "id_vars = ['RegionID', 'SizeRank', 'RegionName', 'RegionType',\n",
    "           'StateName', 'State', 'Metro', 'CountyName']\n",
    "\n",
    "# melt, rename 'variable' and 'value' columns\n",
    "melted = pd.melt(df, \n",
    "                id_vars,\n",
    "                value_name = 'HomePrice',\n",
    "                var_name = 'Date')\n",
    "\n",
    "# check\n",
    "melted.info()\n",
    "melted.head()"
   ]
  },
  {
   "cell_type": "code",
   "execution_count": 6,
   "id": "9bc96c42",
   "metadata": {
    "hidden": true
   },
   "outputs": [
    {
     "name": "stdout",
     "output_type": "stream",
     "text": [
      "<class 'pandas.core.frame.DataFrame'>\n",
      "RangeIndex: 1092 entries, 0 to 1091\n",
      "Data columns (total 10 columns):\n",
      " #   Column      Non-Null Count  Dtype         \n",
      "---  ------      --------------  -----         \n",
      " 0   RegionID    1092 non-null   int64         \n",
      " 1   SizeRank    1092 non-null   int64         \n",
      " 2   RegionName  1092 non-null   object        \n",
      " 3   RegionType  1092 non-null   object        \n",
      " 4   StateName   1092 non-null   object        \n",
      " 5   State       1092 non-null   object        \n",
      " 6   Metro       1092 non-null   object        \n",
      " 7   CountyName  1092 non-null   object        \n",
      " 8   Date        1092 non-null   datetime64[ns]\n",
      " 9   HomePrice   1087 non-null   float64       \n",
      "dtypes: datetime64[ns](1), float64(1), int64(2), object(6)\n",
      "memory usage: 85.4+ KB\n"
     ]
    },
    {
     "data": {
      "text/html": [
       "<div>\n",
       "<style scoped>\n",
       "    .dataframe tbody tr th:only-of-type {\n",
       "        vertical-align: middle;\n",
       "    }\n",
       "\n",
       "    .dataframe tbody tr th {\n",
       "        vertical-align: top;\n",
       "    }\n",
       "\n",
       "    .dataframe thead th {\n",
       "        text-align: right;\n",
       "    }\n",
       "</style>\n",
       "<table border=\"1\" class=\"dataframe\">\n",
       "  <thead>\n",
       "    <tr style=\"text-align: right;\">\n",
       "      <th></th>\n",
       "      <th>RegionID</th>\n",
       "      <th>SizeRank</th>\n",
       "      <th>RegionName</th>\n",
       "      <th>RegionType</th>\n",
       "      <th>StateName</th>\n",
       "      <th>State</th>\n",
       "      <th>Metro</th>\n",
       "      <th>CountyName</th>\n",
       "      <th>Date</th>\n",
       "      <th>HomePrice</th>\n",
       "    </tr>\n",
       "  </thead>\n",
       "  <tbody>\n",
       "    <tr>\n",
       "      <th>0</th>\n",
       "      <td>6181</td>\n",
       "      <td>0</td>\n",
       "      <td>New York</td>\n",
       "      <td>city</td>\n",
       "      <td>NY</td>\n",
       "      <td>NY</td>\n",
       "      <td>New York-Newark-Jersey City, NY-NJ-PA</td>\n",
       "      <td>Queens County</td>\n",
       "      <td>2000-01-31</td>\n",
       "      <td>253690.0</td>\n",
       "    </tr>\n",
       "    <tr>\n",
       "      <th>1</th>\n",
       "      <td>12447</td>\n",
       "      <td>1</td>\n",
       "      <td>Los Angeles</td>\n",
       "      <td>city</td>\n",
       "      <td>CA</td>\n",
       "      <td>CA</td>\n",
       "      <td>Los Angeles-Long Beach-Anaheim, CA</td>\n",
       "      <td>Los Angeles County</td>\n",
       "      <td>2000-01-31</td>\n",
       "      <td>234181.0</td>\n",
       "    </tr>\n",
       "    <tr>\n",
       "      <th>2</th>\n",
       "      <td>39051</td>\n",
       "      <td>2</td>\n",
       "      <td>Houston</td>\n",
       "      <td>city</td>\n",
       "      <td>TX</td>\n",
       "      <td>TX</td>\n",
       "      <td>Houston-The Woodlands-Sugar Land, TX</td>\n",
       "      <td>Harris County</td>\n",
       "      <td>2000-01-31</td>\n",
       "      <td>109068.0</td>\n",
       "    </tr>\n",
       "    <tr>\n",
       "      <th>3</th>\n",
       "      <td>17426</td>\n",
       "      <td>3</td>\n",
       "      <td>Chicago</td>\n",
       "      <td>city</td>\n",
       "      <td>IL</td>\n",
       "      <td>IL</td>\n",
       "      <td>Chicago-Naperville-Elgin, IL-IN-WI</td>\n",
       "      <td>Cook County</td>\n",
       "      <td>2000-01-31</td>\n",
       "      <td>166139.0</td>\n",
       "    </tr>\n",
       "    <tr>\n",
       "      <th>4</th>\n",
       "      <td>6181</td>\n",
       "      <td>0</td>\n",
       "      <td>New York</td>\n",
       "      <td>city</td>\n",
       "      <td>NY</td>\n",
       "      <td>NY</td>\n",
       "      <td>New York-Newark-Jersey City, NY-NJ-PA</td>\n",
       "      <td>Queens County</td>\n",
       "      <td>2000-02-29</td>\n",
       "      <td>255517.0</td>\n",
       "    </tr>\n",
       "  </tbody>\n",
       "</table>\n",
       "</div>"
      ],
      "text/plain": [
       "   RegionID  SizeRank   RegionName RegionType StateName State  \\\n",
       "0      6181         0     New York       city        NY    NY   \n",
       "1     12447         1  Los Angeles       city        CA    CA   \n",
       "2     39051         2      Houston       city        TX    TX   \n",
       "3     17426         3      Chicago       city        IL    IL   \n",
       "4      6181         0     New York       city        NY    NY   \n",
       "\n",
       "                                   Metro          CountyName       Date  \\\n",
       "0  New York-Newark-Jersey City, NY-NJ-PA       Queens County 2000-01-31   \n",
       "1     Los Angeles-Long Beach-Anaheim, CA  Los Angeles County 2000-01-31   \n",
       "2   Houston-The Woodlands-Sugar Land, TX       Harris County 2000-01-31   \n",
       "3     Chicago-Naperville-Elgin, IL-IN-WI         Cook County 2000-01-31   \n",
       "4  New York-Newark-Jersey City, NY-NJ-PA       Queens County 2000-02-29   \n",
       "\n",
       "   HomePrice  \n",
       "0   253690.0  \n",
       "1   234181.0  \n",
       "2   109068.0  \n",
       "3   166139.0  \n",
       "4   255517.0  "
      ]
     },
     "execution_count": 6,
     "metadata": {},
     "output_type": "execute_result"
    }
   ],
   "source": [
    "# convert the melted dates into datetime datatype\n",
    "melted['Date'] = pd.to_datetime(melted['Date'])\n",
    "\n",
    "# check\n",
    "melted.info()\n",
    "melted.head()"
   ]
  },
  {
   "cell_type": "code",
   "execution_count": 7,
   "id": "a242745f",
   "metadata": {
    "hidden": true
   },
   "outputs": [
    {
     "name": "stdout",
     "output_type": "stream",
     "text": [
      "<class 'pandas.core.frame.DataFrame'>\n",
      "DatetimeIndex: 1092 entries, 2000-01-31 to 2022-09-30\n",
      "Data columns (total 9 columns):\n",
      " #   Column      Non-Null Count  Dtype  \n",
      "---  ------      --------------  -----  \n",
      " 0   RegionID    1092 non-null   int64  \n",
      " 1   SizeRank    1092 non-null   int64  \n",
      " 2   RegionName  1092 non-null   object \n",
      " 3   RegionType  1092 non-null   object \n",
      " 4   StateName   1092 non-null   object \n",
      " 5   State       1092 non-null   object \n",
      " 6   Metro       1092 non-null   object \n",
      " 7   CountyName  1092 non-null   object \n",
      " 8   HomePrice   1087 non-null   float64\n",
      "dtypes: float64(1), int64(2), object(6)\n",
      "memory usage: 85.3+ KB\n"
     ]
    },
    {
     "data": {
      "text/html": [
       "<div>\n",
       "<style scoped>\n",
       "    .dataframe tbody tr th:only-of-type {\n",
       "        vertical-align: middle;\n",
       "    }\n",
       "\n",
       "    .dataframe tbody tr th {\n",
       "        vertical-align: top;\n",
       "    }\n",
       "\n",
       "    .dataframe thead th {\n",
       "        text-align: right;\n",
       "    }\n",
       "</style>\n",
       "<table border=\"1\" class=\"dataframe\">\n",
       "  <thead>\n",
       "    <tr style=\"text-align: right;\">\n",
       "      <th></th>\n",
       "      <th>RegionID</th>\n",
       "      <th>SizeRank</th>\n",
       "      <th>RegionName</th>\n",
       "      <th>RegionType</th>\n",
       "      <th>StateName</th>\n",
       "      <th>State</th>\n",
       "      <th>Metro</th>\n",
       "      <th>CountyName</th>\n",
       "      <th>HomePrice</th>\n",
       "    </tr>\n",
       "    <tr>\n",
       "      <th>Date</th>\n",
       "      <th></th>\n",
       "      <th></th>\n",
       "      <th></th>\n",
       "      <th></th>\n",
       "      <th></th>\n",
       "      <th></th>\n",
       "      <th></th>\n",
       "      <th></th>\n",
       "      <th></th>\n",
       "    </tr>\n",
       "  </thead>\n",
       "  <tbody>\n",
       "    <tr>\n",
       "      <th>2000-01-31</th>\n",
       "      <td>6181</td>\n",
       "      <td>0</td>\n",
       "      <td>New York</td>\n",
       "      <td>city</td>\n",
       "      <td>NY</td>\n",
       "      <td>NY</td>\n",
       "      <td>New York-Newark-Jersey City, NY-NJ-PA</td>\n",
       "      <td>Queens County</td>\n",
       "      <td>253690.0</td>\n",
       "    </tr>\n",
       "    <tr>\n",
       "      <th>2000-01-31</th>\n",
       "      <td>12447</td>\n",
       "      <td>1</td>\n",
       "      <td>Los Angeles</td>\n",
       "      <td>city</td>\n",
       "      <td>CA</td>\n",
       "      <td>CA</td>\n",
       "      <td>Los Angeles-Long Beach-Anaheim, CA</td>\n",
       "      <td>Los Angeles County</td>\n",
       "      <td>234181.0</td>\n",
       "    </tr>\n",
       "    <tr>\n",
       "      <th>2000-01-31</th>\n",
       "      <td>39051</td>\n",
       "      <td>2</td>\n",
       "      <td>Houston</td>\n",
       "      <td>city</td>\n",
       "      <td>TX</td>\n",
       "      <td>TX</td>\n",
       "      <td>Houston-The Woodlands-Sugar Land, TX</td>\n",
       "      <td>Harris County</td>\n",
       "      <td>109068.0</td>\n",
       "    </tr>\n",
       "    <tr>\n",
       "      <th>2000-01-31</th>\n",
       "      <td>17426</td>\n",
       "      <td>3</td>\n",
       "      <td>Chicago</td>\n",
       "      <td>city</td>\n",
       "      <td>IL</td>\n",
       "      <td>IL</td>\n",
       "      <td>Chicago-Naperville-Elgin, IL-IN-WI</td>\n",
       "      <td>Cook County</td>\n",
       "      <td>166139.0</td>\n",
       "    </tr>\n",
       "    <tr>\n",
       "      <th>2000-02-29</th>\n",
       "      <td>6181</td>\n",
       "      <td>0</td>\n",
       "      <td>New York</td>\n",
       "      <td>city</td>\n",
       "      <td>NY</td>\n",
       "      <td>NY</td>\n",
       "      <td>New York-Newark-Jersey City, NY-NJ-PA</td>\n",
       "      <td>Queens County</td>\n",
       "      <td>255517.0</td>\n",
       "    </tr>\n",
       "  </tbody>\n",
       "</table>\n",
       "</div>"
      ],
      "text/plain": [
       "            RegionID  SizeRank   RegionName RegionType StateName State  \\\n",
       "Date                                                                     \n",
       "2000-01-31      6181         0     New York       city        NY    NY   \n",
       "2000-01-31     12447         1  Los Angeles       city        CA    CA   \n",
       "2000-01-31     39051         2      Houston       city        TX    TX   \n",
       "2000-01-31     17426         3      Chicago       city        IL    IL   \n",
       "2000-02-29      6181         0     New York       city        NY    NY   \n",
       "\n",
       "                                            Metro          CountyName  \\\n",
       "Date                                                                    \n",
       "2000-01-31  New York-Newark-Jersey City, NY-NJ-PA       Queens County   \n",
       "2000-01-31     Los Angeles-Long Beach-Anaheim, CA  Los Angeles County   \n",
       "2000-01-31   Houston-The Woodlands-Sugar Land, TX       Harris County   \n",
       "2000-01-31     Chicago-Naperville-Elgin, IL-IN-WI         Cook County   \n",
       "2000-02-29  New York-Newark-Jersey City, NY-NJ-PA       Queens County   \n",
       "\n",
       "            HomePrice  \n",
       "Date                   \n",
       "2000-01-31   253690.0  \n",
       "2000-01-31   234181.0  \n",
       "2000-01-31   109068.0  \n",
       "2000-01-31   166139.0  \n",
       "2000-02-29   255517.0  "
      ]
     },
     "execution_count": 7,
     "metadata": {},
     "output_type": "execute_result"
    }
   ],
   "source": [
    "# make the datetime column the index\n",
    "melted = melted.set_index('Date')\n",
    "\n",
    "# check\n",
    "melted.info()\n",
    "melted.head()"
   ]
  },
  {
   "cell_type": "markdown",
   "id": "9abe4863",
   "metadata": {
    "heading_collapsed": true
   },
   "source": [
    "## 1.4 Resample the dataframe as monthly frequency, grouped by city"
   ]
  },
  {
   "cell_type": "code",
   "execution_count": 8,
   "id": "8b772b66",
   "metadata": {
    "hidden": true
   },
   "outputs": [
    {
     "data": {
      "text/html": [
       "<div>\n",
       "<style scoped>\n",
       "    .dataframe tbody tr th:only-of-type {\n",
       "        vertical-align: middle;\n",
       "    }\n",
       "\n",
       "    .dataframe tbody tr th {\n",
       "        vertical-align: top;\n",
       "    }\n",
       "\n",
       "    .dataframe thead th {\n",
       "        text-align: right;\n",
       "    }\n",
       "</style>\n",
       "<table border=\"1\" class=\"dataframe\">\n",
       "  <thead>\n",
       "    <tr style=\"text-align: right;\">\n",
       "      <th></th>\n",
       "      <th></th>\n",
       "      <th>RegionID</th>\n",
       "      <th>SizeRank</th>\n",
       "      <th>HomePrice</th>\n",
       "    </tr>\n",
       "    <tr>\n",
       "      <th>RegionName</th>\n",
       "      <th>Date</th>\n",
       "      <th></th>\n",
       "      <th></th>\n",
       "      <th></th>\n",
       "    </tr>\n",
       "  </thead>\n",
       "  <tbody>\n",
       "    <tr>\n",
       "      <th rowspan=\"5\" valign=\"top\">Chicago</th>\n",
       "      <th>2000-01-01</th>\n",
       "      <td>17426</td>\n",
       "      <td>3</td>\n",
       "      <td>166139.0</td>\n",
       "    </tr>\n",
       "    <tr>\n",
       "      <th>2000-02-01</th>\n",
       "      <td>17426</td>\n",
       "      <td>3</td>\n",
       "      <td>166536.0</td>\n",
       "    </tr>\n",
       "    <tr>\n",
       "      <th>2000-03-01</th>\n",
       "      <td>17426</td>\n",
       "      <td>3</td>\n",
       "      <td>167368.0</td>\n",
       "    </tr>\n",
       "    <tr>\n",
       "      <th>2000-04-01</th>\n",
       "      <td>17426</td>\n",
       "      <td>3</td>\n",
       "      <td>168826.0</td>\n",
       "    </tr>\n",
       "    <tr>\n",
       "      <th>2000-05-01</th>\n",
       "      <td>17426</td>\n",
       "      <td>3</td>\n",
       "      <td>170499.0</td>\n",
       "    </tr>\n",
       "    <tr>\n",
       "      <th>...</th>\n",
       "      <th>...</th>\n",
       "      <td>...</td>\n",
       "      <td>...</td>\n",
       "      <td>...</td>\n",
       "    </tr>\n",
       "    <tr>\n",
       "      <th rowspan=\"5\" valign=\"top\">New York</th>\n",
       "      <th>2022-05-01</th>\n",
       "      <td>6181</td>\n",
       "      <td>0</td>\n",
       "      <td>768797.0</td>\n",
       "    </tr>\n",
       "    <tr>\n",
       "      <th>2022-06-01</th>\n",
       "      <td>6181</td>\n",
       "      <td>0</td>\n",
       "      <td>773944.0</td>\n",
       "    </tr>\n",
       "    <tr>\n",
       "      <th>2022-07-01</th>\n",
       "      <td>6181</td>\n",
       "      <td>0</td>\n",
       "      <td>777692.0</td>\n",
       "    </tr>\n",
       "    <tr>\n",
       "      <th>2022-08-01</th>\n",
       "      <td>6181</td>\n",
       "      <td>0</td>\n",
       "      <td>779960.0</td>\n",
       "    </tr>\n",
       "    <tr>\n",
       "      <th>2022-09-01</th>\n",
       "      <td>6181</td>\n",
       "      <td>0</td>\n",
       "      <td>781622.0</td>\n",
       "    </tr>\n",
       "  </tbody>\n",
       "</table>\n",
       "<p>1092 rows × 3 columns</p>\n",
       "</div>"
      ],
      "text/plain": [
       "                       RegionID  SizeRank  HomePrice\n",
       "RegionName Date                                     \n",
       "Chicago    2000-01-01     17426         3   166139.0\n",
       "           2000-02-01     17426         3   166536.0\n",
       "           2000-03-01     17426         3   167368.0\n",
       "           2000-04-01     17426         3   168826.0\n",
       "           2000-05-01     17426         3   170499.0\n",
       "...                         ...       ...        ...\n",
       "New York   2022-05-01      6181         0   768797.0\n",
       "           2022-06-01      6181         0   773944.0\n",
       "           2022-07-01      6181         0   777692.0\n",
       "           2022-08-01      6181         0   779960.0\n",
       "           2022-09-01      6181         0   781622.0\n",
       "\n",
       "[1092 rows x 3 columns]"
      ]
     },
     "execution_count": 8,
     "metadata": {},
     "output_type": "execute_result"
    }
   ],
   "source": [
    "df_ts = melted.groupby('RegionName').resample('MS').sum(numeric_only = True)\n",
    "\n",
    "# check\n",
    "df_ts"
   ]
  },
  {
   "cell_type": "code",
   "execution_count": 9,
   "id": "f43b0668",
   "metadata": {
    "hidden": true
   },
   "outputs": [
    {
     "data": {
      "text/html": [
       "<div>\n",
       "<style scoped>\n",
       "    .dataframe tbody tr th:only-of-type {\n",
       "        vertical-align: middle;\n",
       "    }\n",
       "\n",
       "    .dataframe tbody tr th {\n",
       "        vertical-align: top;\n",
       "    }\n",
       "\n",
       "    .dataframe thead th {\n",
       "        text-align: right;\n",
       "    }\n",
       "</style>\n",
       "<table border=\"1\" class=\"dataframe\">\n",
       "  <thead>\n",
       "    <tr style=\"text-align: right;\">\n",
       "      <th></th>\n",
       "      <th></th>\n",
       "      <th>HomePrice</th>\n",
       "    </tr>\n",
       "    <tr>\n",
       "      <th>RegionName</th>\n",
       "      <th>Date</th>\n",
       "      <th></th>\n",
       "    </tr>\n",
       "  </thead>\n",
       "  <tbody>\n",
       "    <tr>\n",
       "      <th rowspan=\"5\" valign=\"top\">Chicago</th>\n",
       "      <th>2000-01-01</th>\n",
       "      <td>166139.0</td>\n",
       "    </tr>\n",
       "    <tr>\n",
       "      <th>2000-02-01</th>\n",
       "      <td>166536.0</td>\n",
       "    </tr>\n",
       "    <tr>\n",
       "      <th>2000-03-01</th>\n",
       "      <td>167368.0</td>\n",
       "    </tr>\n",
       "    <tr>\n",
       "      <th>2000-04-01</th>\n",
       "      <td>168826.0</td>\n",
       "    </tr>\n",
       "    <tr>\n",
       "      <th>2000-05-01</th>\n",
       "      <td>170499.0</td>\n",
       "    </tr>\n",
       "    <tr>\n",
       "      <th>...</th>\n",
       "      <th>...</th>\n",
       "      <td>...</td>\n",
       "    </tr>\n",
       "    <tr>\n",
       "      <th rowspan=\"5\" valign=\"top\">New York</th>\n",
       "      <th>2022-05-01</th>\n",
       "      <td>768797.0</td>\n",
       "    </tr>\n",
       "    <tr>\n",
       "      <th>2022-06-01</th>\n",
       "      <td>773944.0</td>\n",
       "    </tr>\n",
       "    <tr>\n",
       "      <th>2022-07-01</th>\n",
       "      <td>777692.0</td>\n",
       "    </tr>\n",
       "    <tr>\n",
       "      <th>2022-08-01</th>\n",
       "      <td>779960.0</td>\n",
       "    </tr>\n",
       "    <tr>\n",
       "      <th>2022-09-01</th>\n",
       "      <td>781622.0</td>\n",
       "    </tr>\n",
       "  </tbody>\n",
       "</table>\n",
       "<p>1092 rows × 1 columns</p>\n",
       "</div>"
      ],
      "text/plain": [
       "                       HomePrice\n",
       "RegionName Date                 \n",
       "Chicago    2000-01-01   166139.0\n",
       "           2000-02-01   166536.0\n",
       "           2000-03-01   167368.0\n",
       "           2000-04-01   168826.0\n",
       "           2000-05-01   170499.0\n",
       "...                          ...\n",
       "New York   2022-05-01   768797.0\n",
       "           2022-06-01   773944.0\n",
       "           2022-07-01   777692.0\n",
       "           2022-08-01   779960.0\n",
       "           2022-09-01   781622.0\n",
       "\n",
       "[1092 rows x 1 columns]"
      ]
     },
     "execution_count": 9,
     "metadata": {},
     "output_type": "execute_result"
    }
   ],
   "source": [
    "# drop unnecessary columns 'RegionID' and 'SizeRank'\n",
    "df_ts = df_ts.drop(columns = ['RegionID', 'SizeRank'])\n",
    "\n",
    "# check\n",
    "df_ts"
   ]
  },
  {
   "cell_type": "markdown",
   "id": "6f5f97bd",
   "metadata": {},
   "source": [
    "# 2 Part 2: Plot and answer questions"
   ]
  },
  {
   "cell_type": "markdown",
   "id": "78d780fe",
   "metadata": {},
   "source": [
    "##  2.1 Plot the home values for all 4 cities"
   ]
  },
  {
   "cell_type": "markdown",
   "id": "e72cde05",
   "metadata": {},
   "source": [
    "Add a title and axis labels, and reformat the y-axis ticks to use thousands of dollars with a \"K\" at the end."
   ]
  },
  {
   "cell_type": "code",
   "execution_count": 10,
   "id": "6b00b539",
   "metadata": {},
   "outputs": [
    {
     "data": {
      "text/html": [
       "<div>\n",
       "<style scoped>\n",
       "    .dataframe tbody tr th:only-of-type {\n",
       "        vertical-align: middle;\n",
       "    }\n",
       "\n",
       "    .dataframe tbody tr th {\n",
       "        vertical-align: top;\n",
       "    }\n",
       "\n",
       "    .dataframe thead th {\n",
       "        text-align: right;\n",
       "    }\n",
       "</style>\n",
       "<table border=\"1\" class=\"dataframe\">\n",
       "  <thead>\n",
       "    <tr style=\"text-align: right;\">\n",
       "      <th></th>\n",
       "      <th></th>\n",
       "      <th>HomePrice</th>\n",
       "    </tr>\n",
       "    <tr>\n",
       "      <th>RegionName</th>\n",
       "      <th>Date</th>\n",
       "      <th></th>\n",
       "    </tr>\n",
       "  </thead>\n",
       "  <tbody>\n",
       "    <tr>\n",
       "      <th rowspan=\"5\" valign=\"top\">Chicago</th>\n",
       "      <th>2000-01-01</th>\n",
       "      <td>166139.0</td>\n",
       "    </tr>\n",
       "    <tr>\n",
       "      <th>2000-02-01</th>\n",
       "      <td>166536.0</td>\n",
       "    </tr>\n",
       "    <tr>\n",
       "      <th>2000-03-01</th>\n",
       "      <td>167368.0</td>\n",
       "    </tr>\n",
       "    <tr>\n",
       "      <th>2000-04-01</th>\n",
       "      <td>168826.0</td>\n",
       "    </tr>\n",
       "    <tr>\n",
       "      <th>2000-05-01</th>\n",
       "      <td>170499.0</td>\n",
       "    </tr>\n",
       "    <tr>\n",
       "      <th>...</th>\n",
       "      <th>...</th>\n",
       "      <td>...</td>\n",
       "    </tr>\n",
       "    <tr>\n",
       "      <th rowspan=\"5\" valign=\"top\">New York</th>\n",
       "      <th>2022-05-01</th>\n",
       "      <td>768797.0</td>\n",
       "    </tr>\n",
       "    <tr>\n",
       "      <th>2022-06-01</th>\n",
       "      <td>773944.0</td>\n",
       "    </tr>\n",
       "    <tr>\n",
       "      <th>2022-07-01</th>\n",
       "      <td>777692.0</td>\n",
       "    </tr>\n",
       "    <tr>\n",
       "      <th>2022-08-01</th>\n",
       "      <td>779960.0</td>\n",
       "    </tr>\n",
       "    <tr>\n",
       "      <th>2022-09-01</th>\n",
       "      <td>781622.0</td>\n",
       "    </tr>\n",
       "  </tbody>\n",
       "</table>\n",
       "<p>1092 rows × 1 columns</p>\n",
       "</div>"
      ],
      "text/plain": [
       "                       HomePrice\n",
       "RegionName Date                 \n",
       "Chicago    2000-01-01   166139.0\n",
       "           2000-02-01   166536.0\n",
       "           2000-03-01   167368.0\n",
       "           2000-04-01   168826.0\n",
       "           2000-05-01   170499.0\n",
       "...                          ...\n",
       "New York   2022-05-01   768797.0\n",
       "           2022-06-01   773944.0\n",
       "           2022-07-01   777692.0\n",
       "           2022-08-01   779960.0\n",
       "           2022-09-01   781622.0\n",
       "\n",
       "[1092 rows x 1 columns]"
      ]
     },
     "execution_count": 10,
     "metadata": {},
     "output_type": "execute_result"
    }
   ],
   "source": [
    "# copy the data for plotting\n",
    "plot_df = df_ts.copy()\n",
    "\n",
    "# check\n",
    "plot_df"
   ]
  },
  {
   "cell_type": "code",
   "execution_count": 11,
   "id": "63295522",
   "metadata": {},
   "outputs": [
    {
     "data": {
      "text/html": [
       "<div>\n",
       "<style scoped>\n",
       "    .dataframe tbody tr th:only-of-type {\n",
       "        vertical-align: middle;\n",
       "    }\n",
       "\n",
       "    .dataframe tbody tr th {\n",
       "        vertical-align: top;\n",
       "    }\n",
       "\n",
       "    .dataframe thead tr th {\n",
       "        text-align: left;\n",
       "    }\n",
       "\n",
       "    .dataframe thead tr:last-of-type th {\n",
       "        text-align: right;\n",
       "    }\n",
       "</style>\n",
       "<table border=\"1\" class=\"dataframe\">\n",
       "  <thead>\n",
       "    <tr>\n",
       "      <th></th>\n",
       "      <th colspan=\"4\" halign=\"left\">HomePrice</th>\n",
       "    </tr>\n",
       "    <tr>\n",
       "      <th>RegionName</th>\n",
       "      <th>Chicago</th>\n",
       "      <th>Houston</th>\n",
       "      <th>Los Angeles</th>\n",
       "      <th>New York</th>\n",
       "    </tr>\n",
       "    <tr>\n",
       "      <th>Date</th>\n",
       "      <th></th>\n",
       "      <th></th>\n",
       "      <th></th>\n",
       "      <th></th>\n",
       "    </tr>\n",
       "  </thead>\n",
       "  <tbody>\n",
       "    <tr>\n",
       "      <th>2000-01-01</th>\n",
       "      <td>166139.0</td>\n",
       "      <td>109068.0</td>\n",
       "      <td>234181.0</td>\n",
       "      <td>253690.0</td>\n",
       "    </tr>\n",
       "    <tr>\n",
       "      <th>2000-02-01</th>\n",
       "      <td>166536.0</td>\n",
       "      <td>109079.0</td>\n",
       "      <td>234401.0</td>\n",
       "      <td>255517.0</td>\n",
       "    </tr>\n",
       "    <tr>\n",
       "      <th>2000-03-01</th>\n",
       "      <td>167368.0</td>\n",
       "      <td>108878.0</td>\n",
       "      <td>235513.0</td>\n",
       "      <td>257207.0</td>\n",
       "    </tr>\n",
       "    <tr>\n",
       "      <th>2000-04-01</th>\n",
       "      <td>168826.0</td>\n",
       "      <td>108881.0</td>\n",
       "      <td>237589.0</td>\n",
       "      <td>260310.0</td>\n",
       "    </tr>\n",
       "    <tr>\n",
       "      <th>2000-05-01</th>\n",
       "      <td>170499.0</td>\n",
       "      <td>108834.0</td>\n",
       "      <td>240113.0</td>\n",
       "      <td>263204.0</td>\n",
       "    </tr>\n",
       "    <tr>\n",
       "      <th>...</th>\n",
       "      <td>...</td>\n",
       "      <td>...</td>\n",
       "      <td>...</td>\n",
       "      <td>...</td>\n",
       "    </tr>\n",
       "    <tr>\n",
       "      <th>2022-05-01</th>\n",
       "      <td>312487.0</td>\n",
       "      <td>265558.0</td>\n",
       "      <td>990391.0</td>\n",
       "      <td>768797.0</td>\n",
       "    </tr>\n",
       "    <tr>\n",
       "      <th>2022-06-01</th>\n",
       "      <td>314663.0</td>\n",
       "      <td>268901.0</td>\n",
       "      <td>992337.0</td>\n",
       "      <td>773944.0</td>\n",
       "    </tr>\n",
       "    <tr>\n",
       "      <th>2022-07-01</th>\n",
       "      <td>315910.0</td>\n",
       "      <td>271059.0</td>\n",
       "      <td>992630.0</td>\n",
       "      <td>777692.0</td>\n",
       "    </tr>\n",
       "    <tr>\n",
       "      <th>2022-08-01</th>\n",
       "      <td>315587.0</td>\n",
       "      <td>272400.0</td>\n",
       "      <td>978196.0</td>\n",
       "      <td>779960.0</td>\n",
       "    </tr>\n",
       "    <tr>\n",
       "      <th>2022-09-01</th>\n",
       "      <td>315429.0</td>\n",
       "      <td>272639.0</td>\n",
       "      <td>966595.0</td>\n",
       "      <td>781622.0</td>\n",
       "    </tr>\n",
       "  </tbody>\n",
       "</table>\n",
       "<p>273 rows × 4 columns</p>\n",
       "</div>"
      ],
      "text/plain": [
       "           HomePrice                                \n",
       "RegionName   Chicago   Houston Los Angeles  New York\n",
       "Date                                                \n",
       "2000-01-01  166139.0  109068.0    234181.0  253690.0\n",
       "2000-02-01  166536.0  109079.0    234401.0  255517.0\n",
       "2000-03-01  167368.0  108878.0    235513.0  257207.0\n",
       "2000-04-01  168826.0  108881.0    237589.0  260310.0\n",
       "2000-05-01  170499.0  108834.0    240113.0  263204.0\n",
       "...              ...       ...         ...       ...\n",
       "2022-05-01  312487.0  265558.0    990391.0  768797.0\n",
       "2022-06-01  314663.0  268901.0    992337.0  773944.0\n",
       "2022-07-01  315910.0  271059.0    992630.0  777692.0\n",
       "2022-08-01  315587.0  272400.0    978196.0  779960.0\n",
       "2022-09-01  315429.0  272639.0    966595.0  781622.0\n",
       "\n",
       "[273 rows x 4 columns]"
      ]
     },
     "execution_count": 11,
     "metadata": {},
     "output_type": "execute_result"
    }
   ],
   "source": [
    "# use unstack to make 'RegionName' part of index into columns\n",
    "unstacked = plot_df.unstack(level = 0)\n",
    "\n",
    "# check\n",
    "unstacked"
   ]
  },
  {
   "cell_type": "code",
   "execution_count": 12,
   "id": "2788bd72",
   "metadata": {},
   "outputs": [
    {
     "data": {
      "image/png": "[encoded data removed]",
      "text/plain": [
       "<Figure size 640x480 with 1 Axes>"
      ]
     },
     "metadata": {},
     "output_type": "display_data"
    }
   ],
   "source": [
    "# function to format y-axis units\n",
    "def thousands(x, pos):\n",
    "    \"\"\"formats money in thousands\"\"\"\n",
    "    new_x = x / 1000\n",
    "    return f\"{new_x:,.0f}K\"\n",
    "\n",
    "# plot\n",
    "ax = unstacked['HomePrice'].plot()\n",
    "\n",
    "# create string format for y-axis units\n",
    "fmt_thous = mticks.FuncFormatter(thousands)\n",
    "\n",
    "# set y-axis major formatter\n",
    "ax.yaxis.set_major_formatter(fmt_thous)\n",
    "\n",
    "# set title and axis labels\n",
    "ax.set_title('Typical Home Values, Jan 2000 - Sep 2022',\n",
    "            fontsize = 20)\n",
    "ax.set_ylabel('Price',\n",
    "             fontsize = 16)\n",
    "ax.set_xlabel('Date',\n",
    "             fontsize = 16)\n",
    "\n",
    "# change legend name\n",
    "ax.legend(title = 'City');"
   ]
  },
  {
   "cell_type": "markdown",
   "id": "72629f5b",
   "metadata": {},
   "source": [
    "## 2.2 Answer the following 2 questions using pandas"
   ]
  },
  {
   "cell_type": "markdown",
   "id": "e54246cc",
   "metadata": {},
   "source": [
    "### 2.2.1 Question 1: Which city had the highest typical home value at the end of 2008? Which had the least?"
   ]
  },
  {
   "cell_type": "code",
   "execution_count": 13,
   "id": "fd6020d7",
   "metadata": {},
   "outputs": [
    {
     "data": {
      "text/html": [
       "<div>\n",
       "<style scoped>\n",
       "    .dataframe tbody tr th:only-of-type {\n",
       "        vertical-align: middle;\n",
       "    }\n",
       "\n",
       "    .dataframe tbody tr th {\n",
       "        vertical-align: top;\n",
       "    }\n",
       "\n",
       "    .dataframe thead th {\n",
       "        text-align: right;\n",
       "    }\n",
       "</style>\n",
       "<table border=\"1\" class=\"dataframe\">\n",
       "  <thead>\n",
       "    <tr style=\"text-align: right;\">\n",
       "      <th></th>\n",
       "      <th></th>\n",
       "      <th>HomePrice</th>\n",
       "    </tr>\n",
       "    <tr>\n",
       "      <th>RegionName</th>\n",
       "      <th>Date</th>\n",
       "      <th></th>\n",
       "    </tr>\n",
       "  </thead>\n",
       "  <tbody>\n",
       "    <tr>\n",
       "      <th>Chicago</th>\n",
       "      <th>2008-12-01</th>\n",
       "      <td>265306.0</td>\n",
       "    </tr>\n",
       "    <tr>\n",
       "      <th>Houston</th>\n",
       "      <th>2008-12-01</th>\n",
       "      <td>131283.0</td>\n",
       "    </tr>\n",
       "    <tr>\n",
       "      <th>Los Angeles</th>\n",
       "      <th>2008-12-01</th>\n",
       "      <td>469294.0</td>\n",
       "    </tr>\n",
       "    <tr>\n",
       "      <th>New York</th>\n",
       "      <th>2008-12-01</th>\n",
       "      <td>510309.0</td>\n",
       "    </tr>\n",
       "  </tbody>\n",
       "</table>\n",
       "</div>"
      ],
      "text/plain": [
       "                        HomePrice\n",
       "RegionName  Date                 \n",
       "Chicago     2008-12-01   265306.0\n",
       "Houston     2008-12-01   131283.0\n",
       "Los Angeles 2008-12-01   469294.0\n",
       "New York    2008-12-01   510309.0"
      ]
     },
     "execution_count": 13,
     "metadata": {},
     "output_type": "execute_result"
    }
   ],
   "source": [
    "# use pd.IndexSlice with the multi-index\n",
    "dec_2008 = df_ts.loc[pd.IndexSlice[:, '2008-12-01'], :]\n",
    "\n",
    "# view\n",
    "dec_2008"
   ]
  },
  {
   "cell_type": "code",
   "execution_count": 14,
   "id": "a344ab89",
   "metadata": {},
   "outputs": [
    {
     "data": {
      "text/plain": [
       "HomePrice    (New York, 2008-12-01 00:00:00)\n",
       "dtype: object"
      ]
     },
     "execution_count": 14,
     "metadata": {},
     "output_type": "execute_result"
    }
   ],
   "source": [
    "# figure out highest value\n",
    "dec_2008_max = dec_2008.idxmax()\n",
    "\n",
    "# check\n",
    "dec_2008_max"
   ]
  },
  {
   "cell_type": "code",
   "execution_count": 15,
   "id": "c7cd7c87",
   "metadata": {},
   "outputs": [
    {
     "data": {
      "text/plain": [
       "'New York'"
      ]
     },
     "execution_count": 15,
     "metadata": {},
     "output_type": "execute_result"
    }
   ],
   "source": [
    "# grab city of max\n",
    "city = df_ts.loc[dec_2008_max].index[0][0]\n",
    "city"
   ]
  },
  {
   "cell_type": "code",
   "execution_count": 16,
   "id": "4ceaa20a",
   "metadata": {},
   "outputs": [
    {
     "data": {
      "text/plain": [
       "510309.0"
      ]
     },
     "execution_count": 16,
     "metadata": {},
     "output_type": "execute_result"
    }
   ],
   "source": [
    "# grab value of max\n",
    "value = df_ts.loc[pd.IndexSlice[city, '2008-12-01'], 'HomePrice']\n",
    "value"
   ]
  },
  {
   "cell_type": "code",
   "execution_count": 17,
   "id": "0ebb1379",
   "metadata": {},
   "outputs": [
    {
     "name": "stdout",
     "output_type": "stream",
     "text": [
      "New York had the highest typical home value at the end of 2008, with a typical home value of $510,309.\n"
     ]
    }
   ],
   "source": [
    "# make printout to answer question\n",
    "print(f\"{city} had the highest typical home value at the end of \\\n",
    "2008, with a typical home value of ${value:,.0f}.\")"
   ]
  },
  {
   "cell_type": "code",
   "execution_count": 18,
   "id": "e478e18c",
   "metadata": {},
   "outputs": [
    {
     "data": {
      "text/plain": [
       "HomePrice    (Houston, 2008-12-01 00:00:00)\n",
       "dtype: object"
      ]
     },
     "execution_count": 18,
     "metadata": {},
     "output_type": "execute_result"
    }
   ],
   "source": [
    "# figure out the lowest value\n",
    "dec_2008_min = dec_2008.idxmin()\n",
    "\n",
    "# check\n",
    "dec_2008_min"
   ]
  },
  {
   "cell_type": "code",
   "execution_count": 19,
   "id": "ab120ca2",
   "metadata": {},
   "outputs": [
    {
     "data": {
      "text/plain": [
       "'Houston'"
      ]
     },
     "execution_count": 19,
     "metadata": {},
     "output_type": "execute_result"
    }
   ],
   "source": [
    "# grab city of min\n",
    "city = df_ts.loc[dec_2008_min].index[0][0]\n",
    "city"
   ]
  },
  {
   "cell_type": "code",
   "execution_count": 20,
   "id": "a6966f21",
   "metadata": {},
   "outputs": [
    {
     "data": {
      "text/plain": [
       "131283.0"
      ]
     },
     "execution_count": 20,
     "metadata": {},
     "output_type": "execute_result"
    }
   ],
   "source": [
    "# grab value of min\n",
    "value = df_ts.loc[pd.IndexSlice[city, '2008-12-01'], 'HomePrice']\n",
    "value"
   ]
  },
  {
   "cell_type": "code",
   "execution_count": 21,
   "id": "0efd928f",
   "metadata": {},
   "outputs": [
    {
     "name": "stdout",
     "output_type": "stream",
     "text": [
      "Houston had the lowest typical home value at the end of 2008, with a typical home value of $131,283.\n"
     ]
    }
   ],
   "source": [
    "# make printout to answer question\n",
    "print(f\"{city} had the lowest typical home value at the end of \\\n",
    "2008, with a typical home value of ${value:,.0f}.\")"
   ]
  },
  {
   "cell_type": "markdown",
   "id": "d9dad114",
   "metadata": {},
   "source": [
    "### 2.2.2 Question 2: How much did the home values change from November 2008 to December 2008 (in dollars)?"
   ]
  },
  {
   "cell_type": "code",
   "execution_count": 22,
   "id": "ffc9d6d8",
   "metadata": {},
   "outputs": [
    {
     "data": {
      "text/plain": [
       "349994.5"
      ]
     },
     "execution_count": 22,
     "metadata": {},
     "output_type": "execute_result"
    }
   ],
   "source": [
    "# figure out November 2008 average price\n",
    "# use pd.IndexSlice with the multi-index\n",
    "nov_2008 = df_ts.loc[pd.IndexSlice[:, '2008-11-01'], :]\n",
    "nov_2008_avg = nov_2008.mean()\n",
    "\n",
    "# check\n",
    "nov_2008_avg = nov_2008_avg[0]\n",
    "nov_2008_avg"
   ]
  },
  {
   "cell_type": "code",
   "execution_count": 23,
   "id": "6ed78f1d",
   "metadata": {},
   "outputs": [
    {
     "data": {
      "text/plain": [
       "344048.0"
      ]
     },
     "execution_count": 23,
     "metadata": {},
     "output_type": "execute_result"
    }
   ],
   "source": [
    "# figure out December 2008 average price\n",
    "# use pd.IndexSlice with the multi-index\n",
    "dec_2008 = df_ts.loc[pd.IndexSlice[:, '2008-12-01'], :]\n",
    "dec_2008_avg = dec_2008.mean()\n",
    "\n",
    "# check\n",
    "dec_2008_avg = dec_2008_avg[0]\n",
    "dec_2008_avg"
   ]
  },
  {
   "cell_type": "code",
   "execution_count": 24,
   "id": "bdc12e70",
   "metadata": {},
   "outputs": [
    {
     "data": {
      "text/plain": [
       "-5946.5"
      ]
     },
     "execution_count": 24,
     "metadata": {},
     "output_type": "execute_result"
    }
   ],
   "source": [
    "# calculate difference\n",
    "diff = dec_2008_avg - nov_2008_avg\n",
    "\n",
    "# check\n",
    "diff"
   ]
  },
  {
   "cell_type": "code",
   "execution_count": 25,
   "id": "e776cfc4",
   "metadata": {},
   "outputs": [
    {
     "name": "stdout",
     "output_type": "stream",
     "text": [
      "The average home price in Los Angeles, New York, Houston, and Chicago changed from $349,994 in November 2008 to $344,048 in December 2008, for a difference of -5,946.\n"
     ]
    }
   ],
   "source": [
    "# make printout to answer question\n",
    "print(f\"The average home price in Los Angeles, New York, \\\n",
    "Houston, and Chicago changed from ${nov_2008_avg:,.0f} in \\\n",
    "November 2008 to ${dec_2008_avg:,.0f} in December 2008, for \\\n",
    "a difference of {diff:,.0f}.\")"
   ]
  }
 ],
 "metadata": {
  "kernelspec": {
   "display_name": "Python (dojo-env)",
   "language": "python",
   "name": "dojo-env"
  },
  "language_info": {
   "codemirror_mode": {
    "name": "ipython",
    "version": 3
   },
   "file_extension": ".py",
   "mimetype": "text/x-python",
   "name": "python",
   "nbconvert_exporter": "python",
   "pygments_lexer": "ipython3",
   "version": "3.9.15"
  },
  "toc": {
   "base_numbering": 1,
   "nav_menu": {},
   "number_sections": false,
   "sideBar": true,
   "skip_h1_title": false,
   "title_cell": "Table of Contents",
   "title_sidebar": "Contents",
   "toc_cell": false,
   "toc_position": {},
   "toc_section_display": true,
   "toc_window_display": false
  }
 },
 "nbformat": 4,
 "nbformat_minor": 5
}
